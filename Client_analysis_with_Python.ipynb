{
 "cells": [
  {
   "cell_type": "markdown",
   "metadata": {},
   "source": [
    "# Кейс по скоринговой аналитике средствами Python"
   ]
  },
  {
   "cell_type": "markdown",
   "metadata": {},
   "source": [
    "[Источник](https://archive.ics.uci.edu/ml/datasets/Adult) датасета "
   ]
  },
  {
   "cell_type": "markdown",
   "metadata": {},
   "source": [
    "Подключаем библиотеки"
   ]
  },
  {
   "cell_type": "code",
   "execution_count": 1,
   "metadata": {},
   "outputs": [],
   "source": [
    "import numpy as np\n",
    "import pandas as pd\n",
    "import matplotlib.pyplot as plt\n",
    "import seaborn as sns"
   ]
  },
  {
   "cell_type": "code",
   "execution_count": 10,
   "metadata": {},
   "outputs": [],
   "source": [
    "# формируем датафрейм\n",
    "data = pd.read_csv('./CSV_Datasets/adult.csv', sep=',', encoding = 'utf-8')"
   ]
  },
  {
   "cell_type": "code",
   "execution_count": 11,
   "metadata": {},
   "outputs": [
    {
     "data": {
      "text/html": [
       "<div>\n",
       "<style scoped>\n",
       "    .dataframe tbody tr th:only-of-type {\n",
       "        vertical-align: middle;\n",
       "    }\n",
       "\n",
       "    .dataframe tbody tr th {\n",
       "        vertical-align: top;\n",
       "    }\n",
       "\n",
       "    .dataframe thead th {\n",
       "        text-align: right;\n",
       "    }\n",
       "</style>\n",
       "<table border=\"1\" class=\"dataframe\">\n",
       "  <thead>\n",
       "    <tr style=\"text-align: right;\">\n",
       "      <th></th>\n",
       "      <th>age</th>\n",
       "      <th>workclass</th>\n",
       "      <th>fnlwgt</th>\n",
       "      <th>education</th>\n",
       "      <th>education-num</th>\n",
       "      <th>marital-status</th>\n",
       "      <th>occupation</th>\n",
       "      <th>relationship</th>\n",
       "      <th>race</th>\n",
       "      <th>sex</th>\n",
       "      <th>capital-gain</th>\n",
       "      <th>capital-loss</th>\n",
       "      <th>hours-per-week</th>\n",
       "      <th>native-country</th>\n",
       "      <th>yearincome</th>\n",
       "    </tr>\n",
       "  </thead>\n",
       "  <tbody>\n",
       "    <tr>\n",
       "      <th>0</th>\n",
       "      <td>39</td>\n",
       "      <td>State-gov</td>\n",
       "      <td>77516</td>\n",
       "      <td>Bachelors</td>\n",
       "      <td>13</td>\n",
       "      <td>Never-married</td>\n",
       "      <td>Adm-clerical</td>\n",
       "      <td>Not-in-family</td>\n",
       "      <td>White</td>\n",
       "      <td>Male</td>\n",
       "      <td>2174</td>\n",
       "      <td>0</td>\n",
       "      <td>40</td>\n",
       "      <td>United-States</td>\n",
       "      <td>&lt;=50K</td>\n",
       "    </tr>\n",
       "    <tr>\n",
       "      <th>1</th>\n",
       "      <td>50</td>\n",
       "      <td>Self-emp-not-inc</td>\n",
       "      <td>83311</td>\n",
       "      <td>Bachelors</td>\n",
       "      <td>13</td>\n",
       "      <td>Married-civ-spouse</td>\n",
       "      <td>Exec-managerial</td>\n",
       "      <td>Husband</td>\n",
       "      <td>White</td>\n",
       "      <td>Male</td>\n",
       "      <td>0</td>\n",
       "      <td>0</td>\n",
       "      <td>13</td>\n",
       "      <td>United-States</td>\n",
       "      <td>&lt;=50K</td>\n",
       "    </tr>\n",
       "    <tr>\n",
       "      <th>2</th>\n",
       "      <td>38</td>\n",
       "      <td>Private</td>\n",
       "      <td>215646</td>\n",
       "      <td>HS-grad</td>\n",
       "      <td>9</td>\n",
       "      <td>Divorced</td>\n",
       "      <td>Handlers-cleaners</td>\n",
       "      <td>Not-in-family</td>\n",
       "      <td>White</td>\n",
       "      <td>Male</td>\n",
       "      <td>0</td>\n",
       "      <td>0</td>\n",
       "      <td>40</td>\n",
       "      <td>United-States</td>\n",
       "      <td>&lt;=50K</td>\n",
       "    </tr>\n",
       "    <tr>\n",
       "      <th>3</th>\n",
       "      <td>53</td>\n",
       "      <td>Private</td>\n",
       "      <td>234721</td>\n",
       "      <td>11th</td>\n",
       "      <td>7</td>\n",
       "      <td>Married-civ-spouse</td>\n",
       "      <td>Handlers-cleaners</td>\n",
       "      <td>Husband</td>\n",
       "      <td>Black</td>\n",
       "      <td>Male</td>\n",
       "      <td>0</td>\n",
       "      <td>0</td>\n",
       "      <td>40</td>\n",
       "      <td>United-States</td>\n",
       "      <td>&lt;=50K</td>\n",
       "    </tr>\n",
       "    <tr>\n",
       "      <th>4</th>\n",
       "      <td>28</td>\n",
       "      <td>Private</td>\n",
       "      <td>338409</td>\n",
       "      <td>Bachelors</td>\n",
       "      <td>13</td>\n",
       "      <td>Married-civ-spouse</td>\n",
       "      <td>Prof-specialty</td>\n",
       "      <td>Wife</td>\n",
       "      <td>Black</td>\n",
       "      <td>Female</td>\n",
       "      <td>0</td>\n",
       "      <td>0</td>\n",
       "      <td>40</td>\n",
       "      <td>Cuba</td>\n",
       "      <td>&lt;=50K</td>\n",
       "    </tr>\n",
       "  </tbody>\n",
       "</table>\n",
       "</div>"
      ],
      "text/plain": [
       "   age          workclass  fnlwgt   education  education-num  \\\n",
       "0   39          State-gov   77516   Bachelors             13   \n",
       "1   50   Self-emp-not-inc   83311   Bachelors             13   \n",
       "2   38            Private  215646     HS-grad              9   \n",
       "3   53            Private  234721        11th              7   \n",
       "4   28            Private  338409   Bachelors             13   \n",
       "\n",
       "        marital-status          occupation    relationship    race      sex  \\\n",
       "0        Never-married        Adm-clerical   Not-in-family   White     Male   \n",
       "1   Married-civ-spouse     Exec-managerial         Husband   White     Male   \n",
       "2             Divorced   Handlers-cleaners   Not-in-family   White     Male   \n",
       "3   Married-civ-spouse   Handlers-cleaners         Husband   Black     Male   \n",
       "4   Married-civ-spouse      Prof-specialty            Wife   Black   Female   \n",
       "\n",
       "   capital-gain  capital-loss  hours-per-week  native-country yearincome  \n",
       "0          2174             0              40   United-States      <=50K  \n",
       "1             0             0              13   United-States      <=50K  \n",
       "2             0             0              40   United-States      <=50K  \n",
       "3             0             0              40   United-States      <=50K  \n",
       "4             0             0              40            Cuba      <=50K  "
      ]
     },
     "execution_count": 11,
     "metadata": {},
     "output_type": "execute_result"
    }
   ],
   "source": [
    "data.head()"
   ]
  },
  {
   "cell_type": "markdown",
   "metadata": {},
   "source": [
    "Посмотрим на резмерность датасета и прочие параметры"
   ]
  },
  {
   "cell_type": "code",
   "execution_count": 12,
   "metadata": {},
   "outputs": [
    {
     "data": {
      "text/plain": [
       "(32561, 15)"
      ]
     },
     "execution_count": 12,
     "metadata": {},
     "output_type": "execute_result"
    }
   ],
   "source": [
    "data.shape"
   ]
  },
  {
   "cell_type": "code",
   "execution_count": 13,
   "metadata": {},
   "outputs": [
    {
     "name": "stdout",
     "output_type": "stream",
     "text": [
      "<class 'pandas.core.frame.DataFrame'>\n",
      "RangeIndex: 32561 entries, 0 to 32560\n",
      "Data columns (total 15 columns):\n",
      "age               32561 non-null int64\n",
      "workclass         32561 non-null object\n",
      "fnlwgt            32561 non-null int64\n",
      "education         32561 non-null object\n",
      "education-num     32561 non-null int64\n",
      "marital-status    32561 non-null object\n",
      "occupation        32561 non-null object\n",
      "relationship      32561 non-null object\n",
      "race              32561 non-null object\n",
      "sex               32561 non-null object\n",
      "capital-gain      32561 non-null int64\n",
      "capital-loss      32561 non-null int64\n",
      "hours-per-week    32561 non-null int64\n",
      "native-country    32561 non-null object\n",
      "yearincome        32561 non-null object\n",
      "dtypes: int64(6), object(9)\n",
      "memory usage: 3.7+ MB\n"
     ]
    }
   ],
   "source": [
    "data.info()"
   ]
  },
  {
   "cell_type": "code",
   "execution_count": 15,
   "metadata": {},
   "outputs": [
    {
     "data": {
      "text/html": [
       "<div>\n",
       "<style scoped>\n",
       "    .dataframe tbody tr th:only-of-type {\n",
       "        vertical-align: middle;\n",
       "    }\n",
       "\n",
       "    .dataframe tbody tr th {\n",
       "        vertical-align: top;\n",
       "    }\n",
       "\n",
       "    .dataframe thead th {\n",
       "        text-align: right;\n",
       "    }\n",
       "</style>\n",
       "<table border=\"1\" class=\"dataframe\">\n",
       "  <thead>\n",
       "    <tr style=\"text-align: right;\">\n",
       "      <th></th>\n",
       "      <th>age</th>\n",
       "      <th>fnlwgt</th>\n",
       "      <th>education-num</th>\n",
       "      <th>capital-gain</th>\n",
       "      <th>capital-loss</th>\n",
       "      <th>hours-per-week</th>\n",
       "    </tr>\n",
       "  </thead>\n",
       "  <tbody>\n",
       "    <tr>\n",
       "      <th>count</th>\n",
       "      <td>32561.000000</td>\n",
       "      <td>3.256100e+04</td>\n",
       "      <td>32561.000000</td>\n",
       "      <td>32561.000000</td>\n",
       "      <td>32561.000000</td>\n",
       "      <td>32561.000000</td>\n",
       "    </tr>\n",
       "    <tr>\n",
       "      <th>mean</th>\n",
       "      <td>38.581647</td>\n",
       "      <td>1.897784e+05</td>\n",
       "      <td>10.080679</td>\n",
       "      <td>1077.648844</td>\n",
       "      <td>87.303830</td>\n",
       "      <td>40.437456</td>\n",
       "    </tr>\n",
       "    <tr>\n",
       "      <th>std</th>\n",
       "      <td>13.640433</td>\n",
       "      <td>1.055500e+05</td>\n",
       "      <td>2.572720</td>\n",
       "      <td>7385.292085</td>\n",
       "      <td>402.960219</td>\n",
       "      <td>12.347429</td>\n",
       "    </tr>\n",
       "    <tr>\n",
       "      <th>min</th>\n",
       "      <td>17.000000</td>\n",
       "      <td>1.228500e+04</td>\n",
       "      <td>1.000000</td>\n",
       "      <td>0.000000</td>\n",
       "      <td>0.000000</td>\n",
       "      <td>1.000000</td>\n",
       "    </tr>\n",
       "    <tr>\n",
       "      <th>25%</th>\n",
       "      <td>28.000000</td>\n",
       "      <td>1.178270e+05</td>\n",
       "      <td>9.000000</td>\n",
       "      <td>0.000000</td>\n",
       "      <td>0.000000</td>\n",
       "      <td>40.000000</td>\n",
       "    </tr>\n",
       "    <tr>\n",
       "      <th>50%</th>\n",
       "      <td>37.000000</td>\n",
       "      <td>1.783560e+05</td>\n",
       "      <td>10.000000</td>\n",
       "      <td>0.000000</td>\n",
       "      <td>0.000000</td>\n",
       "      <td>40.000000</td>\n",
       "    </tr>\n",
       "    <tr>\n",
       "      <th>75%</th>\n",
       "      <td>48.000000</td>\n",
       "      <td>2.370510e+05</td>\n",
       "      <td>12.000000</td>\n",
       "      <td>0.000000</td>\n",
       "      <td>0.000000</td>\n",
       "      <td>45.000000</td>\n",
       "    </tr>\n",
       "    <tr>\n",
       "      <th>max</th>\n",
       "      <td>90.000000</td>\n",
       "      <td>1.484705e+06</td>\n",
       "      <td>16.000000</td>\n",
       "      <td>99999.000000</td>\n",
       "      <td>4356.000000</td>\n",
       "      <td>99.000000</td>\n",
       "    </tr>\n",
       "  </tbody>\n",
       "</table>\n",
       "</div>"
      ],
      "text/plain": [
       "                age        fnlwgt  education-num  capital-gain  capital-loss  \\\n",
       "count  32561.000000  3.256100e+04   32561.000000  32561.000000  32561.000000   \n",
       "mean      38.581647  1.897784e+05      10.080679   1077.648844     87.303830   \n",
       "std       13.640433  1.055500e+05       2.572720   7385.292085    402.960219   \n",
       "min       17.000000  1.228500e+04       1.000000      0.000000      0.000000   \n",
       "25%       28.000000  1.178270e+05       9.000000      0.000000      0.000000   \n",
       "50%       37.000000  1.783560e+05      10.000000      0.000000      0.000000   \n",
       "75%       48.000000  2.370510e+05      12.000000      0.000000      0.000000   \n",
       "max       90.000000  1.484705e+06      16.000000  99999.000000   4356.000000   \n",
       "\n",
       "       hours-per-week  \n",
       "count    32561.000000  \n",
       "mean        40.437456  \n",
       "std         12.347429  \n",
       "min          1.000000  \n",
       "25%         40.000000  \n",
       "50%         40.000000  \n",
       "75%         45.000000  \n",
       "max         99.000000  "
      ]
     },
     "execution_count": 15,
     "metadata": {},
     "output_type": "execute_result"
    }
   ],
   "source": [
    "data.describe()"
   ]
  },
  {
   "cell_type": "markdown",
   "metadata": {},
   "source": [
    "Посмотрим на состав текстовых полей"
   ]
  },
  {
   "cell_type": "code",
   "execution_count": 16,
   "metadata": {},
   "outputs": [
    {
     "name": "stdout",
     "output_type": "stream",
     "text": [
      "workclass\n",
      "[' ?' ' Federal-gov' ' Local-gov' ' Never-worked' ' Private'\n",
      " ' Self-emp-inc' ' Self-emp-not-inc' ' State-gov' ' Without-pay']\n",
      "education\n",
      "[' 10th' ' 11th' ' 12th' ' 1st-4th' ' 5th-6th' ' 7th-8th' ' 9th'\n",
      " ' Assoc-acdm' ' Assoc-voc' ' Bachelors' ' Doctorate' ' HS-grad'\n",
      " ' Masters' ' Preschool' ' Prof-school' ' Some-college']\n",
      "marital-status\n",
      "[' Divorced' ' Married-AF-spouse' ' Married-civ-spouse'\n",
      " ' Married-spouse-absent' ' Never-married' ' Separated' ' Widowed']\n",
      "occupation\n",
      "[' ?' ' Adm-clerical' ' Armed-Forces' ' Craft-repair' ' Exec-managerial'\n",
      " ' Farming-fishing' ' Handlers-cleaners' ' Machine-op-inspct'\n",
      " ' Other-service' ' Priv-house-serv' ' Prof-specialty' ' Protective-serv'\n",
      " ' Sales' ' Tech-support' ' Transport-moving']\n",
      "relationship\n",
      "[' Husband' ' Not-in-family' ' Other-relative' ' Own-child' ' Unmarried'\n",
      " ' Wife']\n",
      "race\n",
      "[' Amer-Indian-Eskimo' ' Asian-Pac-Islander' ' Black' ' Other' ' White']\n",
      "sex\n",
      "[' Female' ' Male']\n",
      "native-country\n",
      "[' ?' ' Cambodia' ' Canada' ' China' ' Columbia' ' Cuba'\n",
      " ' Dominican-Republic' ' Ecuador' ' El-Salvador' ' England' ' France'\n",
      " ' Germany' ' Greece' ' Guatemala' ' Haiti' ' Holand-Netherlands'\n",
      " ' Honduras' ' Hong' ' Hungary' ' India' ' Iran' ' Ireland' ' Italy'\n",
      " ' Jamaica' ' Japan' ' Laos' ' Mexico' ' Nicaragua'\n",
      " ' Outlying-US(Guam-USVI-etc)' ' Peru' ' Philippines' ' Poland'\n",
      " ' Portugal' ' Puerto-Rico' ' Scotland' ' South' ' Taiwan' ' Thailand'\n",
      " ' Trinadad&Tobago' ' United-States' ' Vietnam' ' Yugoslavia']\n",
      "yearincome\n",
      "[' <=50K' ' >50K']\n"
     ]
    }
   ],
   "source": [
    "\n",
    "for i in data.select_dtypes('object').columns:\n",
    "    print(i)\n",
    "    print(np.unique(data[i]))"
   ]
  },
  {
   "cell_type": "markdown",
   "metadata": {},
   "source": [
    "Как видим, кое-где есть значение '?' , которое означает отсутствие информации"
   ]
  },
  {
   "cell_type": "markdown",
   "metadata": {},
   "source": [
    "Пройдемся по полям"
   ]
  },
  {
   "cell_type": "code",
   "execution_count": 17,
   "metadata": {},
   "outputs": [
    {
     "data": {
      "text/plain": [
       "0    39\n",
       "1    50\n",
       "2    38\n",
       "3    53\n",
       "4    28\n",
       "Name: age, dtype: int64"
      ]
     },
     "execution_count": 17,
     "metadata": {},
     "output_type": "execute_result"
    }
   ],
   "source": [
    "data['age'].head()"
   ]
  },
  {
   "cell_type": "markdown",
   "metadata": {},
   "source": [
    "Посмотрим на значения по возрасту"
   ]
  },
  {
   "cell_type": "code",
   "execution_count": 21,
   "metadata": {},
   "outputs": [
    {
     "name": "stdout",
     "output_type": "stream",
     "text": [
      "Максимальный возраст: 90 лет.\n",
      "Минимальный возраст: 17 лет.\n",
      "Средний возраст: 38 лет.\n",
      "Медианный возраст: 37 лет.\n"
     ]
    }
   ],
   "source": [
    "print('Максимальный возраст: %d лет.' %data['age'].max())\n",
    "print('Минимальный возраст: %d лет.'%data['age'].min())\n",
    "print('Средний возраст: %d лет.'%data['age'].mean())\n",
    "print('Медианный возраст: %d лет.'%data['age'].median())"
   ]
  },
  {
   "cell_type": "markdown",
   "metadata": {},
   "source": [
    "А теперь разобъем все значения возраста на 10 отрезков и посмотрим, как распределится\n",
    "количество анкетируемых"
   ]
  },
  {
   "cell_type": "code",
   "execution_count": 23,
   "metadata": {},
   "outputs": [
    {
     "data": {
      "text/plain": [
       "(16.927, 24.3]    5570\n",
       "(24.3, 31.6]      5890\n",
       "(31.6, 38.9]      6048\n",
       "(38.9, 46.2]      6163\n",
       "(46.2, 53.5]      3967\n",
       "(53.5, 60.8]      2591\n",
       "(60.8, 68.1]      1595\n",
       "(68.1, 75.4]       496\n",
       "(75.4, 82.7]       174\n",
       "(82.7, 90.0]        67\n",
       "Name: age, dtype: int64"
      ]
     },
     "execution_count": 23,
     "metadata": {},
     "output_type": "execute_result"
    }
   ],
   "source": [
    "bins = pd.cut(data['age'],10).value_counts().sort_index()\n",
    "bins"
   ]
  },
  {
   "cell_type": "markdown",
   "metadata": {},
   "source": [
    "Построим бар чарт, чтобы визуализировать наше исследование"
   ]
  },
  {
   "cell_type": "code",
   "execution_count": 34,
   "metadata": {},
   "outputs": [
    {
     "data": {
      "image/png": "[encoded data removed]",
      "text/plain": [
       "<Figure size 864x504 with 1 Axes>"
      ]
     },
     "metadata": {
      "needs_background": "light"
     },
     "output_type": "display_data"
    }
   ],
   "source": [
    "bins.plot(kind='bar', color='cornflowerblue',figsize=(12,7))\n",
    "plt.ylabel('Кол-во участников')\n",
    "plt.xlabel('Возраст (в бинах)')\n",
    "plt.xticks(rotation=70)\n",
    "plt.show()"
   ]
  },
  {
   "cell_type": "markdown",
   "metadata": {},
   "source": [
    "Изучим подробнее данные об образовании"
   ]
  },
  {
   "cell_type": "code",
   "execution_count": 29,
   "metadata": {},
   "outputs": [
    {
     "data": {
      "text/plain": [
       "array([' Bachelors', ' HS-grad', ' 11th', ' Masters', ' 9th',\n",
       "       ' Some-college', ' Assoc-acdm', ' Assoc-voc', ' 7th-8th',\n",
       "       ' Doctorate', ' Prof-school', ' 5th-6th', ' 10th', ' 1st-4th',\n",
       "       ' Preschool', ' 12th'], dtype=object)"
      ]
     },
     "execution_count": 29,
     "metadata": {},
     "output_type": "execute_result"
    }
   ],
   "source": [
    "# состав значений поля\n",
    "data.education.unique()"
   ]
  },
  {
   "cell_type": "code",
   "execution_count": 31,
   "metadata": {},
   "outputs": [
    {
     "data": {
      "text/plain": [
       " HS-grad         10501\n",
       " Some-college     7291\n",
       " Bachelors        5355\n",
       " Masters          1723\n",
       " Assoc-voc        1382\n",
       " 11th             1175\n",
       " Assoc-acdm       1067\n",
       " 10th              933\n",
       " 7th-8th           646\n",
       " Prof-school       576\n",
       " 9th               514\n",
       " 12th              433\n",
       " Doctorate         413\n",
       " 5th-6th           333\n",
       " 1st-4th           168\n",
       " Preschool          51\n",
       "Name: education, dtype: int64"
      ]
     },
     "execution_count": 31,
     "metadata": {},
     "output_type": "execute_result"
    }
   ],
   "source": [
    "# с количеством по значениям\n",
    "data.education.value_counts()"
   ]
  },
  {
   "cell_type": "code",
   "execution_count": 32,
   "metadata": {},
   "outputs": [
    {
     "data": {
      "text/plain": [
       " HS-grad         32.25\n",
       " Some-college    22.39\n",
       " Bachelors       16.45\n",
       " Masters          5.29\n",
       " Assoc-voc        4.24\n",
       " 11th             3.61\n",
       " Assoc-acdm       3.28\n",
       " 10th             2.87\n",
       " 7th-8th          1.98\n",
       " Prof-school      1.77\n",
       " 9th              1.58\n",
       " 12th             1.33\n",
       " Doctorate        1.27\n",
       " 5th-6th          1.02\n",
       " 1st-4th          0.52\n",
       " Preschool        0.16\n",
       "Name: education, dtype: float64"
      ]
     },
     "execution_count": 32,
     "metadata": {},
     "output_type": "execute_result"
    }
   ],
   "source": [
    "# а если то же, но в процентах от тотала участников\n",
    "round(data.education.value_counts(normalize=True)*100,2)"
   ]
  },
  {
   "cell_type": "markdown",
   "metadata": {},
   "source": [
    "Интересно посмотреть, как связан рабочий класс и образование.\n",
    "Построим кросс-таблицу значений по этим полям"
   ]
  },
  {
   "cell_type": "code",
   "execution_count": 35,
   "metadata": {
    "scrolled": true
   },
   "outputs": [
    {
     "data": {
      "text/html": [
       "<div>\n",
       "<style scoped>\n",
       "    .dataframe tbody tr th:only-of-type {\n",
       "        vertical-align: middle;\n",
       "    }\n",
       "\n",
       "    .dataframe tbody tr th {\n",
       "        vertical-align: top;\n",
       "    }\n",
       "\n",
       "    .dataframe thead th {\n",
       "        text-align: right;\n",
       "    }\n",
       "</style>\n",
       "<table border=\"1\" class=\"dataframe\">\n",
       "  <thead>\n",
       "    <tr style=\"text-align: right;\">\n",
       "      <th>workclass</th>\n",
       "      <th>?</th>\n",
       "      <th>Federal-gov</th>\n",
       "      <th>Local-gov</th>\n",
       "      <th>Never-worked</th>\n",
       "      <th>Private</th>\n",
       "      <th>Self-emp-inc</th>\n",
       "      <th>Self-emp-not-inc</th>\n",
       "      <th>State-gov</th>\n",
       "      <th>Without-pay</th>\n",
       "    </tr>\n",
       "    <tr>\n",
       "      <th>education</th>\n",
       "      <th></th>\n",
       "      <th></th>\n",
       "      <th></th>\n",
       "      <th></th>\n",
       "      <th></th>\n",
       "      <th></th>\n",
       "      <th></th>\n",
       "      <th></th>\n",
       "      <th></th>\n",
       "    </tr>\n",
       "  </thead>\n",
       "  <tbody>\n",
       "    <tr>\n",
       "      <th>10th</th>\n",
       "      <td>0.307116</td>\n",
       "      <td>0.018427</td>\n",
       "      <td>0.095206</td>\n",
       "      <td>0.006142</td>\n",
       "      <td>2.134455</td>\n",
       "      <td>0.058352</td>\n",
       "      <td>0.205768</td>\n",
       "      <td>0.039925</td>\n",
       "      <td>0.000000</td>\n",
       "    </tr>\n",
       "    <tr>\n",
       "      <th>11th</th>\n",
       "      <td>0.362397</td>\n",
       "      <td>0.027640</td>\n",
       "      <td>0.110562</td>\n",
       "      <td>0.003071</td>\n",
       "      <td>2.834680</td>\n",
       "      <td>0.042996</td>\n",
       "      <td>0.184270</td>\n",
       "      <td>0.042996</td>\n",
       "      <td>0.000000</td>\n",
       "    </tr>\n",
       "    <tr>\n",
       "      <th>12th</th>\n",
       "      <td>0.122846</td>\n",
       "      <td>0.015356</td>\n",
       "      <td>0.058352</td>\n",
       "      <td>0.000000</td>\n",
       "      <td>1.022696</td>\n",
       "      <td>0.021498</td>\n",
       "      <td>0.058352</td>\n",
       "      <td>0.030712</td>\n",
       "      <td>0.000000</td>\n",
       "    </tr>\n",
       "    <tr>\n",
       "      <th>1st-4th</th>\n",
       "      <td>0.036854</td>\n",
       "      <td>0.000000</td>\n",
       "      <td>0.012285</td>\n",
       "      <td>0.000000</td>\n",
       "      <td>0.417678</td>\n",
       "      <td>0.006142</td>\n",
       "      <td>0.039925</td>\n",
       "      <td>0.003071</td>\n",
       "      <td>0.000000</td>\n",
       "    </tr>\n",
       "    <tr>\n",
       "      <th>5th-6th</th>\n",
       "      <td>0.092135</td>\n",
       "      <td>0.003071</td>\n",
       "      <td>0.027640</td>\n",
       "      <td>0.000000</td>\n",
       "      <td>0.816928</td>\n",
       "      <td>0.012285</td>\n",
       "      <td>0.058352</td>\n",
       "      <td>0.012285</td>\n",
       "      <td>0.000000</td>\n",
       "    </tr>\n",
       "    <tr>\n",
       "      <th>7th-8th</th>\n",
       "      <td>0.221123</td>\n",
       "      <td>0.006142</td>\n",
       "      <td>0.085992</td>\n",
       "      <td>0.003071</td>\n",
       "      <td>1.302171</td>\n",
       "      <td>0.042996</td>\n",
       "      <td>0.288689</td>\n",
       "      <td>0.030712</td>\n",
       "      <td>0.003071</td>\n",
       "    </tr>\n",
       "    <tr>\n",
       "      <th>9th</th>\n",
       "      <td>0.156629</td>\n",
       "      <td>0.009213</td>\n",
       "      <td>0.070637</td>\n",
       "      <td>0.000000</td>\n",
       "      <td>1.188538</td>\n",
       "      <td>0.030712</td>\n",
       "      <td>0.104419</td>\n",
       "      <td>0.018427</td>\n",
       "      <td>0.000000</td>\n",
       "    </tr>\n",
       "    <tr>\n",
       "      <th>Assoc-acdm</th>\n",
       "      <td>0.144344</td>\n",
       "      <td>0.168914</td>\n",
       "      <td>0.270262</td>\n",
       "      <td>0.000000</td>\n",
       "      <td>2.238875</td>\n",
       "      <td>0.107491</td>\n",
       "      <td>0.218052</td>\n",
       "      <td>0.125918</td>\n",
       "      <td>0.003071</td>\n",
       "    </tr>\n",
       "    <tr>\n",
       "      <th>Assoc-voc</th>\n",
       "      <td>0.187341</td>\n",
       "      <td>0.116704</td>\n",
       "      <td>0.264120</td>\n",
       "      <td>0.000000</td>\n",
       "      <td>3.086515</td>\n",
       "      <td>0.116704</td>\n",
       "      <td>0.331685</td>\n",
       "      <td>0.141273</td>\n",
       "      <td>0.000000</td>\n",
       "    </tr>\n",
       "    <tr>\n",
       "      <th>Bachelors</th>\n",
       "      <td>0.531310</td>\n",
       "      <td>0.651086</td>\n",
       "      <td>1.464943</td>\n",
       "      <td>0.000000</td>\n",
       "      <td>10.905685</td>\n",
       "      <td>0.838426</td>\n",
       "      <td>1.225392</td>\n",
       "      <td>0.829213</td>\n",
       "      <td>0.000000</td>\n",
       "    </tr>\n",
       "    <tr>\n",
       "      <th>Doctorate</th>\n",
       "      <td>0.046067</td>\n",
       "      <td>0.049139</td>\n",
       "      <td>0.082921</td>\n",
       "      <td>0.000000</td>\n",
       "      <td>0.555880</td>\n",
       "      <td>0.107491</td>\n",
       "      <td>0.153558</td>\n",
       "      <td>0.273333</td>\n",
       "      <td>0.000000</td>\n",
       "    </tr>\n",
       "    <tr>\n",
       "      <th>HS-grad</th>\n",
       "      <td>1.633856</td>\n",
       "      <td>0.807715</td>\n",
       "      <td>1.544793</td>\n",
       "      <td>0.003071</td>\n",
       "      <td>23.893615</td>\n",
       "      <td>0.856853</td>\n",
       "      <td>2.659623</td>\n",
       "      <td>0.823071</td>\n",
       "      <td>0.027640</td>\n",
       "    </tr>\n",
       "    <tr>\n",
       "      <th>Masters</th>\n",
       "      <td>0.147416</td>\n",
       "      <td>0.205768</td>\n",
       "      <td>1.050336</td>\n",
       "      <td>0.000000</td>\n",
       "      <td>2.745616</td>\n",
       "      <td>0.242622</td>\n",
       "      <td>0.380824</td>\n",
       "      <td>0.519026</td>\n",
       "      <td>0.000000</td>\n",
       "    </tr>\n",
       "    <tr>\n",
       "      <th>Preschool</th>\n",
       "      <td>0.015356</td>\n",
       "      <td>0.000000</td>\n",
       "      <td>0.012285</td>\n",
       "      <td>0.000000</td>\n",
       "      <td>0.125918</td>\n",
       "      <td>0.000000</td>\n",
       "      <td>0.000000</td>\n",
       "      <td>0.003071</td>\n",
       "      <td>0.000000</td>\n",
       "    </tr>\n",
       "    <tr>\n",
       "      <th>Prof-school</th>\n",
       "      <td>0.055281</td>\n",
       "      <td>0.089064</td>\n",
       "      <td>0.089064</td>\n",
       "      <td>0.000000</td>\n",
       "      <td>0.789288</td>\n",
       "      <td>0.248764</td>\n",
       "      <td>0.402322</td>\n",
       "      <td>0.095206</td>\n",
       "      <td>0.000000</td>\n",
       "    </tr>\n",
       "    <tr>\n",
       "      <th>Some-college</th>\n",
       "      <td>1.578576</td>\n",
       "      <td>0.780074</td>\n",
       "      <td>1.188538</td>\n",
       "      <td>0.006142</td>\n",
       "      <td>15.644483</td>\n",
       "      <td>0.694082</td>\n",
       "      <td>1.492583</td>\n",
       "      <td>0.998127</td>\n",
       "      <td>0.009213</td>\n",
       "    </tr>\n",
       "  </tbody>\n",
       "</table>\n",
       "</div>"
      ],
      "text/plain": [
       "workclass             ?   Federal-gov   Local-gov   Never-worked    Private  \\\n",
       "education                                                                     \n",
       " 10th          0.307116      0.018427    0.095206       0.006142   2.134455   \n",
       " 11th          0.362397      0.027640    0.110562       0.003071   2.834680   \n",
       " 12th          0.122846      0.015356    0.058352       0.000000   1.022696   \n",
       " 1st-4th       0.036854      0.000000    0.012285       0.000000   0.417678   \n",
       " 5th-6th       0.092135      0.003071    0.027640       0.000000   0.816928   \n",
       " 7th-8th       0.221123      0.006142    0.085992       0.003071   1.302171   \n",
       " 9th           0.156629      0.009213    0.070637       0.000000   1.188538   \n",
       " Assoc-acdm    0.144344      0.168914    0.270262       0.000000   2.238875   \n",
       " Assoc-voc     0.187341      0.116704    0.264120       0.000000   3.086515   \n",
       " Bachelors     0.531310      0.651086    1.464943       0.000000  10.905685   \n",
       " Doctorate     0.046067      0.049139    0.082921       0.000000   0.555880   \n",
       " HS-grad       1.633856      0.807715    1.544793       0.003071  23.893615   \n",
       " Masters       0.147416      0.205768    1.050336       0.000000   2.745616   \n",
       " Preschool     0.015356      0.000000    0.012285       0.000000   0.125918   \n",
       " Prof-school   0.055281      0.089064    0.089064       0.000000   0.789288   \n",
       " Some-college  1.578576      0.780074    1.188538       0.006142  15.644483   \n",
       "\n",
       "workclass       Self-emp-inc   Self-emp-not-inc   State-gov   Without-pay  \n",
       "education                                                                  \n",
       " 10th               0.058352           0.205768    0.039925      0.000000  \n",
       " 11th               0.042996           0.184270    0.042996      0.000000  \n",
       " 12th               0.021498           0.058352    0.030712      0.000000  \n",
       " 1st-4th            0.006142           0.039925    0.003071      0.000000  \n",
       " 5th-6th            0.012285           0.058352    0.012285      0.000000  \n",
       " 7th-8th            0.042996           0.288689    0.030712      0.003071  \n",
       " 9th                0.030712           0.104419    0.018427      0.000000  \n",
       " Assoc-acdm         0.107491           0.218052    0.125918      0.003071  \n",
       " Assoc-voc          0.116704           0.331685    0.141273      0.000000  \n",
       " Bachelors          0.838426           1.225392    0.829213      0.000000  \n",
       " Doctorate          0.107491           0.153558    0.273333      0.000000  \n",
       " HS-grad            0.856853           2.659623    0.823071      0.027640  \n",
       " Masters            0.242622           0.380824    0.519026      0.000000  \n",
       " Preschool          0.000000           0.000000    0.003071      0.000000  \n",
       " Prof-school        0.248764           0.402322    0.095206      0.000000  \n",
       " Some-college       0.694082           1.492583    0.998127      0.009213  "
      ]
     },
     "execution_count": 35,
     "metadata": {},
     "output_type": "execute_result"
    }
   ],
   "source": [
    "pd.crosstab(data['education'],data['workclass'], normalize=True)*100"
   ]
  },
  {
   "cell_type": "markdown",
   "metadata": {},
   "source": [
    "Посмотрим, у какой группы больше всего прирост капитала"
   ]
  },
  {
   "cell_type": "code",
   "execution_count": 36,
   "metadata": {},
   "outputs": [
    {
     "data": {
      "text/plain": [
       "workclass\n",
       " Private             20181687\n",
       " Self-emp-inc         5441274\n",
       " Self-emp-not-inc     4792483\n",
       " Local-gov            1842264\n",
       " ?                    1114077\n",
       " State-gov             910806\n",
       " Federal-gov           799903\n",
       " Without-pay             6830\n",
       " Never-worked               0\n",
       "Name: capital-gain, dtype: int64"
      ]
     },
     "execution_count": 36,
     "metadata": {},
     "output_type": "execute_result"
    }
   ],
   "source": [
    "data.groupby('workclass')['capital-gain'].sum().sort_values(ascending=False)"
   ]
  },
  {
   "cell_type": "markdown",
   "metadata": {},
   "source": [
    "То же, но по средним значениям"
   ]
  },
  {
   "cell_type": "code",
   "execution_count": 37,
   "metadata": {},
   "outputs": [
    {
     "data": {
      "text/plain": [
       "workclass\n",
       " Self-emp-inc        4875.693548\n",
       " Self-emp-not-inc    1886.061787\n",
       " Private              889.217792\n",
       " Local-gov            880.202580\n",
       " Federal-gov          833.232292\n",
       " State-gov            701.699538\n",
       " ?                    606.795752\n",
       " Without-pay          487.857143\n",
       " Never-worked           0.000000\n",
       "Name: capital-gain, dtype: float64"
      ]
     },
     "execution_count": 37,
     "metadata": {},
     "output_type": "execute_result"
    }
   ],
   "source": [
    "data.groupby('workclass')['capital-gain'].mean().sort_values(ascending=False)"
   ]
  },
  {
   "cell_type": "code",
   "execution_count": 39,
   "metadata": {},
   "outputs": [
    {
     "data": {
      "text/html": [
       "<div>\n",
       "<style scoped>\n",
       "    .dataframe tbody tr th:only-of-type {\n",
       "        vertical-align: middle;\n",
       "    }\n",
       "\n",
       "    .dataframe tbody tr th {\n",
       "        vertical-align: top;\n",
       "    }\n",
       "\n",
       "    .dataframe thead th {\n",
       "        text-align: right;\n",
       "    }\n",
       "</style>\n",
       "<table border=\"1\" class=\"dataframe\">\n",
       "  <thead>\n",
       "    <tr style=\"text-align: right;\">\n",
       "      <th>marital-status</th>\n",
       "      <th>Divorced</th>\n",
       "      <th>Married-AF-spouse</th>\n",
       "      <th>Married-civ-spouse</th>\n",
       "      <th>Married-spouse-absent</th>\n",
       "      <th>Never-married</th>\n",
       "      <th>Separated</th>\n",
       "      <th>Widowed</th>\n",
       "    </tr>\n",
       "    <tr>\n",
       "      <th>workclass</th>\n",
       "      <th></th>\n",
       "      <th></th>\n",
       "      <th></th>\n",
       "      <th></th>\n",
       "      <th></th>\n",
       "      <th></th>\n",
       "      <th></th>\n",
       "    </tr>\n",
       "  </thead>\n",
       "  <tbody>\n",
       "    <tr>\n",
       "      <th>?</th>\n",
       "      <td>236.668478</td>\n",
       "      <td>1326.5</td>\n",
       "      <td>1147.649371</td>\n",
       "      <td>0.000000</td>\n",
       "      <td>327.763708</td>\n",
       "      <td>151.757576</td>\n",
       "      <td>502.542484</td>\n",
       "    </tr>\n",
       "    <tr>\n",
       "      <th>Federal-gov</th>\n",
       "      <td>316.089286</td>\n",
       "      <td>0.0</td>\n",
       "      <td>1064.976645</td>\n",
       "      <td>1512.818182</td>\n",
       "      <td>824.942857</td>\n",
       "      <td>765.307692</td>\n",
       "      <td>181.833333</td>\n",
       "    </tr>\n",
       "    <tr>\n",
       "      <th>Local-gov</th>\n",
       "      <td>738.525745</td>\n",
       "      <td>NaN</td>\n",
       "      <td>1223.948192</td>\n",
       "      <td>391.545455</td>\n",
       "      <td>540.807547</td>\n",
       "      <td>177.396825</td>\n",
       "      <td>130.593023</td>\n",
       "    </tr>\n",
       "    <tr>\n",
       "      <th>Never-worked</th>\n",
       "      <td>0.000000</td>\n",
       "      <td>NaN</td>\n",
       "      <td>0.000000</td>\n",
       "      <td>NaN</td>\n",
       "      <td>0.000000</td>\n",
       "      <td>NaN</td>\n",
       "      <td>NaN</td>\n",
       "    </tr>\n",
       "    <tr>\n",
       "      <th>Private</th>\n",
       "      <td>577.412953</td>\n",
       "      <td>0.0</td>\n",
       "      <td>1546.778463</td>\n",
       "      <td>555.592715</td>\n",
       "      <td>296.430002</td>\n",
       "      <td>642.669761</td>\n",
       "      <td>422.704082</td>\n",
       "    </tr>\n",
       "    <tr>\n",
       "      <th>Self-emp-inc</th>\n",
       "      <td>3942.330000</td>\n",
       "      <td>NaN</td>\n",
       "      <td>5824.813620</td>\n",
       "      <td>665.000000</td>\n",
       "      <td>720.320000</td>\n",
       "      <td>239.350000</td>\n",
       "      <td>2535.172414</td>\n",
       "    </tr>\n",
       "    <tr>\n",
       "      <th>Self-emp-not-inc</th>\n",
       "      <td>1886.821918</td>\n",
       "      <td>3649.0</td>\n",
       "      <td>2008.205357</td>\n",
       "      <td>1294.322581</td>\n",
       "      <td>1644.826406</td>\n",
       "      <td>77.377358</td>\n",
       "      <td>1939.040541</td>\n",
       "    </tr>\n",
       "    <tr>\n",
       "      <th>State-gov</th>\n",
       "      <td>576.404762</td>\n",
       "      <td>0.0</td>\n",
       "      <td>1092.027211</td>\n",
       "      <td>2168.941176</td>\n",
       "      <td>216.757869</td>\n",
       "      <td>335.046512</td>\n",
       "      <td>263.423077</td>\n",
       "    </tr>\n",
       "    <tr>\n",
       "      <th>Without-pay</th>\n",
       "      <td>NaN</td>\n",
       "      <td>NaN</td>\n",
       "      <td>301.750000</td>\n",
       "      <td>0.000000</td>\n",
       "      <td>1104.000000</td>\n",
       "      <td>NaN</td>\n",
       "      <td>0.000000</td>\n",
       "    </tr>\n",
       "  </tbody>\n",
       "</table>\n",
       "</div>"
      ],
      "text/plain": [
       "marital-status        Divorced   Married-AF-spouse   Married-civ-spouse  \\\n",
       "workclass                                                                 \n",
       " ?                  236.668478              1326.5          1147.649371   \n",
       " Federal-gov        316.089286                 0.0          1064.976645   \n",
       " Local-gov          738.525745                 NaN          1223.948192   \n",
       " Never-worked         0.000000                 NaN             0.000000   \n",
       " Private            577.412953                 0.0          1546.778463   \n",
       " Self-emp-inc      3942.330000                 NaN          5824.813620   \n",
       " Self-emp-not-inc  1886.821918              3649.0          2008.205357   \n",
       " State-gov          576.404762                 0.0          1092.027211   \n",
       " Without-pay               NaN                 NaN           301.750000   \n",
       "\n",
       "marital-status      Married-spouse-absent   Never-married   Separated  \\\n",
       "workclass                                                               \n",
       " ?                               0.000000      327.763708  151.757576   \n",
       " Federal-gov                  1512.818182      824.942857  765.307692   \n",
       " Local-gov                     391.545455      540.807547  177.396825   \n",
       " Never-worked                         NaN        0.000000         NaN   \n",
       " Private                       555.592715      296.430002  642.669761   \n",
       " Self-emp-inc                  665.000000      720.320000  239.350000   \n",
       " Self-emp-not-inc             1294.322581     1644.826406   77.377358   \n",
       " State-gov                    2168.941176      216.757869  335.046512   \n",
       " Without-pay                     0.000000     1104.000000         NaN   \n",
       "\n",
       "marital-status         Widowed  \n",
       "workclass                       \n",
       " ?                  502.542484  \n",
       " Federal-gov        181.833333  \n",
       " Local-gov          130.593023  \n",
       " Never-worked              NaN  \n",
       " Private            422.704082  \n",
       " Self-emp-inc      2535.172414  \n",
       " Self-emp-not-inc  1939.040541  \n",
       " State-gov          263.423077  \n",
       " Without-pay          0.000000  "
      ]
     },
     "execution_count": 39,
     "metadata": {},
     "output_type": "execute_result"
    }
   ],
   "source": [
    "#добавим еще один уровень группировки - семейный статус и оформим в удобном табличном виде\n",
    "data.groupby(['workclass', 'marital-status'])['capital-gain'].mean().unstack()"
   ]
  },
  {
   "cell_type": "markdown",
   "metadata": {},
   "source": [
    "А можно, как-то добавить визуализации ?"
   ]
  },
  {
   "cell_type": "code",
   "execution_count": 40,
   "metadata": {},
   "outputs": [
    {
     "data": {
      "image/png": "[encoded data removed]",
      "text/plain": [
       "<Figure size 432x288 with 2 Axes>"
      ]
     },
     "metadata": {
      "needs_background": "light"
     },
     "output_type": "display_data"
    }
   ],
   "source": [
    "sns.heatmap(data.groupby(['workclass', 'marital-status'])['capital-gain'].mean().unstack(), annot=True, fmt='.0f',cmap=\"YlGnBu\")\n",
    "plt.show()"
   ]
  },
  {
   "cell_type": "markdown",
   "metadata": {},
   "source": [
    "Пояснение: Married-civ-spouse - это гражданские супруги, а Self-emp-inc -это самозанятые\n",
    "(не путать с российским статусом самозанятого), т.е.частные предприниматели.\n",
    "Самое темное значение в этом хитмапе на пересечении этих категорий.\n",
    "Так что согласно этой выборке, капитал больше растет в семьях частных предпринимателей"
   ]
  },
  {
   "cell_type": "markdown",
   "metadata": {},
   "source": [
    "Хорошо, а можно сюда привязать возраст и посмотреть род занятий?"
   ]
  },
  {
   "cell_type": "code",
   "execution_count": 45,
   "metadata": {},
   "outputs": [
    {
     "data": {
      "image/png": "[encoded data removed]",
      "text/plain": [
       "<Figure size 1008x504 with 2 Axes>"
      ]
     },
     "metadata": {
      "needs_background": "light"
     },
     "output_type": "display_data"
    }
   ],
   "source": [
    "plt.figure(figsize=(14, 7))\n",
    "sns.heatmap(data.groupby(['occupation',pd.cut(data['age'],10) ])['capital-gain'].mean().unstack(), \\\n",
    "            annot=True, fmt='.0f',cmap=\"YlGnBu\")\n",
    "plt.show()"
   ]
  },
  {
   "cell_type": "markdown",
   "metadata": {},
   "source": [
    "Посмотрим, как зависит возраст и уровень дохода"
   ]
  },
  {
   "cell_type": "code",
   "execution_count": 47,
   "metadata": {},
   "outputs": [
    {
     "data": {
      "image/png": "[encoded data removed]",
      "text/plain": [
       "<Figure size 432x288 with 1 Axes>"
      ]
     },
     "metadata": {
      "needs_background": "light"
     },
     "output_type": "display_data"
    }
   ],
   "source": [
    "sns.countplot(x='age', hue='yearincome', data=data)\n",
    "plt.show()"
   ]
  },
  {
   "cell_type": "markdown",
   "metadata": {},
   "source": [
    "Что-то рябит в глазах. Давайте подправим наш чарт."
   ]
  },
  {
   "cell_type": "code",
   "execution_count": 48,
   "metadata": {},
   "outputs": [
    {
     "data": {
      "text/html": [
       "<div>\n",
       "<style scoped>\n",
       "    .dataframe tbody tr th:only-of-type {\n",
       "        vertical-align: middle;\n",
       "    }\n",
       "\n",
       "    .dataframe tbody tr th {\n",
       "        vertical-align: top;\n",
       "    }\n",
       "\n",
       "    .dataframe thead th {\n",
       "        text-align: right;\n",
       "    }\n",
       "</style>\n",
       "<table border=\"1\" class=\"dataframe\">\n",
       "  <thead>\n",
       "    <tr style=\"text-align: right;\">\n",
       "      <th></th>\n",
       "      <th>age</th>\n",
       "    </tr>\n",
       "  </thead>\n",
       "  <tbody>\n",
       "    <tr>\n",
       "      <th>0.05</th>\n",
       "      <td>19.0</td>\n",
       "    </tr>\n",
       "    <tr>\n",
       "      <th>0.95</th>\n",
       "      <td>63.0</td>\n",
       "    </tr>\n",
       "  </tbody>\n",
       "</table>\n",
       "</div>"
      ],
      "text/plain": [
       "       age\n",
       "0.05  19.0\n",
       "0.95  63.0"
      ]
     },
     "execution_count": 48,
     "metadata": {},
     "output_type": "execute_result"
    }
   ],
   "source": [
    "low = .05# пятный перцентиль\n",
    "high = .95 #95-й перцентиль\n",
    "quant_ages = data['age'].quantile([low, high])# указываем, что надо взять только в этом диапозоне, т.е. отбрасываем выбросы\n",
    "pd.DataFrame(quant_ages)"
   ]
  },
  {
   "cell_type": "code",
   "execution_count": 49,
   "metadata": {},
   "outputs": [
    {
     "data": {
      "text/plain": [
       "array([19., 63.])"
      ]
     },
     "execution_count": 49,
     "metadata": {},
     "output_type": "execute_result"
    }
   ],
   "source": [
    "quant_ages.values #получи возраст от 19 до 63"
   ]
  },
  {
   "cell_type": "code",
   "execution_count": 50,
   "metadata": {},
   "outputs": [],
   "source": [
    "#указываем граничные значения на основе крайних значений массива\n",
    "_min_boundary = quant_ages.values[0]\n",
    "_max_boundary = quant_ages.values[1]"
   ]
  },
  {
   "cell_type": "code",
   "execution_count": 52,
   "metadata": {},
   "outputs": [],
   "source": [
    "#фильтруем дф по граничным значениям\n",
    "filtered_df = data[(data['age'] > _min_boundary)&(data['age'] < _max_boundary)]"
   ]
  },
  {
   "cell_type": "code",
   "execution_count": 55,
   "metadata": {},
   "outputs": [
    {
     "data": {
      "image/png": "[encoded data removed]",
      "text/plain": [
       "<Figure size 1008x504 with 1 Axes>"
      ]
     },
     "metadata": {
      "needs_background": "light"
     },
     "output_type": "display_data"
    }
   ],
   "source": [
    "#тот же график. но уже более читабельный\n",
    "plt.figure(figsize=(14, 7))\n",
    "sns.countplot(x='age', hue='yearincome', data=filtered_df)\n",
    "plt.show()"
   ]
  },
  {
   "cell_type": "markdown",
   "metadata": {},
   "source": [
    "По графику можно сказать, именно в диапазоне от 37 до 47 лет наблюдается максимальное количество участников\n",
    "с доходом больше 50k в год. Примерно в возрасте 46-47 лет наблюдается максимальное прибижение двух графиков,\n",
    "это та граница, когда доля людей в выборке с доходом больше 50k в год будет максимальна. На этой информации, например,\n",
    "можно выстривать кредитную политику в секторе для частных домохозяйств."
   ]
  },
  {
   "cell_type": "code",
   "execution_count": null,
   "metadata": {},
   "outputs": [],
   "source": []
  }
 ],
 "metadata": {
  "kernelspec": {
   "display_name": "Python 3",
   "language": "python",
   "name": "python3"
  },
  "language_info": {
   "codemirror_mode": {
    "name": "ipython",
    "version": 3
   },
   "file_extension": ".py",
   "mimetype": "text/x-python",
   "name": "python",
   "nbconvert_exporter": "python",
   "pygments_lexer": "ipython3",
   "version": "3.6.4"
  }
 },
 "nbformat": 4,
 "nbformat_minor": 2
}
