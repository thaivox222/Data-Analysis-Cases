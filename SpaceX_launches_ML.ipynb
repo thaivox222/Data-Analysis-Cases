{
 "cells": [
  {
   "cell_type": "markdown",
   "metadata": {},
   "source": [
    "<img src=\"https://www.aex.ru/images/media/900/18171.jpg\" width=600></br></br></br>\n",
    "<h2 align=\"center\">Предсказываем успешность очередного запуска Space X</h2>"
   ]
  },
  {
   "cell_type": "markdown",
   "metadata": {},
   "source": [
    "## Часть 1. Подготовка датасета"
   ]
  },
  {
   "cell_type": "markdown",
   "metadata": {},
   "source": [
    "Импортируем библиотеки и знакомимся с данными"
   ]
  },
  {
   "cell_type": "code",
   "execution_count": 2,
   "metadata": {},
   "outputs": [],
   "source": [
    "import pandas as pd\n",
    "import numpy as np\n",
    "from sklearn.metrics import r2_score\n",
    "from sklearn.impute import SimpleImputer\n",
    "from sklearn.preprocessing import LabelEncoder"
   ]
  },
  {
   "cell_type": "code",
   "execution_count": 3,
   "metadata": {
    "scrolled": true
   },
   "outputs": [
    {
     "data": {
      "text/html": [
       "<div>\n",
       "<style scoped>\n",
       "    .dataframe tbody tr th:only-of-type {\n",
       "        vertical-align: middle;\n",
       "    }\n",
       "\n",
       "    .dataframe tbody tr th {\n",
       "        vertical-align: top;\n",
       "    }\n",
       "\n",
       "    .dataframe thead th {\n",
       "        text-align: right;\n",
       "    }\n",
       "</style>\n",
       "<table border=\"1\" class=\"dataframe\">\n",
       "  <thead>\n",
       "    <tr style=\"text-align: right;\">\n",
       "      <th></th>\n",
       "      <th>Company</th>\n",
       "      <th>Launch Date</th>\n",
       "      <th>Launch Time</th>\n",
       "      <th>Launch Site</th>\n",
       "      <th>Temperature (° F)</th>\n",
       "      <th>Wind speed (MPH)</th>\n",
       "      <th>Humidity (%)</th>\n",
       "      <th>Vehicle Type</th>\n",
       "      <th>Liftoff Thrust (kN)</th>\n",
       "      <th>Payload to Orbit (kg)</th>\n",
       "      <th>Rocket Height (m)</th>\n",
       "      <th>Fairing Diameter (m)</th>\n",
       "      <th>Payload Name</th>\n",
       "      <th>Payload Type</th>\n",
       "      <th>Payload Mass (kg)</th>\n",
       "      <th>Payload Orbit</th>\n",
       "      <th>Mission Status</th>\n",
       "      <th>Failure Reason</th>\n",
       "    </tr>\n",
       "  </thead>\n",
       "  <tbody>\n",
       "    <tr>\n",
       "      <th>0</th>\n",
       "      <td>SpaceX</td>\n",
       "      <td>24 March 2006</td>\n",
       "      <td>22:30</td>\n",
       "      <td>Marshall Islands</td>\n",
       "      <td>86.0</td>\n",
       "      <td>9.0</td>\n",
       "      <td>74.0</td>\n",
       "      <td>Falcon 1</td>\n",
       "      <td>343</td>\n",
       "      <td>470</td>\n",
       "      <td>22.25</td>\n",
       "      <td>1.5</td>\n",
       "      <td>FalconSAT-2</td>\n",
       "      <td>Research Satellite</td>\n",
       "      <td>19.5</td>\n",
       "      <td>Low Earth Orbit</td>\n",
       "      <td>Failure</td>\n",
       "      <td>Engine Fire During Launch</td>\n",
       "    </tr>\n",
       "    <tr>\n",
       "      <th>1</th>\n",
       "      <td>SpaceX</td>\n",
       "      <td>21 March 2007</td>\n",
       "      <td>1:10</td>\n",
       "      <td>Marshall Islands</td>\n",
       "      <td>NaN</td>\n",
       "      <td>NaN</td>\n",
       "      <td>NaN</td>\n",
       "      <td>Falcon 1</td>\n",
       "      <td>343</td>\n",
       "      <td>470</td>\n",
       "      <td>22.25</td>\n",
       "      <td>1.5</td>\n",
       "      <td>DemoSat</td>\n",
       "      <td>Mass simulator</td>\n",
       "      <td>NaN</td>\n",
       "      <td>Low Earth Orbit</td>\n",
       "      <td>Failure</td>\n",
       "      <td>Engine Shutdown During Launch</td>\n",
       "    </tr>\n",
       "    <tr>\n",
       "      <th>2</th>\n",
       "      <td>SpaceX</td>\n",
       "      <td>3 August 2008</td>\n",
       "      <td>3:34</td>\n",
       "      <td>Marshall Islands</td>\n",
       "      <td>NaN</td>\n",
       "      <td>NaN</td>\n",
       "      <td>NaN</td>\n",
       "      <td>Falcon 1</td>\n",
       "      <td>343</td>\n",
       "      <td>470</td>\n",
       "      <td>22.25</td>\n",
       "      <td>1.5</td>\n",
       "      <td>Trailblazer</td>\n",
       "      <td>Communication Satellite</td>\n",
       "      <td>NaN</td>\n",
       "      <td>Low Earth Orbit</td>\n",
       "      <td>Failure</td>\n",
       "      <td>Collision During Launch</td>\n",
       "    </tr>\n",
       "    <tr>\n",
       "      <th>3</th>\n",
       "      <td>SpaceX</td>\n",
       "      <td>3 August 2008</td>\n",
       "      <td>3:34</td>\n",
       "      <td>Marshall Islands</td>\n",
       "      <td>NaN</td>\n",
       "      <td>NaN</td>\n",
       "      <td>NaN</td>\n",
       "      <td>Falcon 1</td>\n",
       "      <td>343</td>\n",
       "      <td>470</td>\n",
       "      <td>22.25</td>\n",
       "      <td>1.5</td>\n",
       "      <td>PRESat, NanoSail-D</td>\n",
       "      <td>Research Satellites</td>\n",
       "      <td>8</td>\n",
       "      <td>Low Earth Orbit</td>\n",
       "      <td>Failure</td>\n",
       "      <td>Collision During Launch</td>\n",
       "    </tr>\n",
       "    <tr>\n",
       "      <th>4</th>\n",
       "      <td>SpaceX</td>\n",
       "      <td>3 August 2008</td>\n",
       "      <td>3:34</td>\n",
       "      <td>Marshall Islands</td>\n",
       "      <td>NaN</td>\n",
       "      <td>NaN</td>\n",
       "      <td>NaN</td>\n",
       "      <td>Falcon 1</td>\n",
       "      <td>343</td>\n",
       "      <td>470</td>\n",
       "      <td>22.25</td>\n",
       "      <td>1.5</td>\n",
       "      <td>Explorers</td>\n",
       "      <td>Human Remains</td>\n",
       "      <td>NaN</td>\n",
       "      <td>Low Earth Orbit</td>\n",
       "      <td>Failure</td>\n",
       "      <td>Collision During Launch</td>\n",
       "    </tr>\n",
       "  </tbody>\n",
       "</table>\n",
       "</div>"
      ],
      "text/plain": [
       "  Company    Launch Date Launch Time       Launch Site  Temperature (° F)  \\\n",
       "0  SpaceX  24 March 2006       22:30  Marshall Islands               86.0   \n",
       "1  SpaceX  21 March 2007        1:10  Marshall Islands                NaN   \n",
       "2  SpaceX  3 August 2008        3:34  Marshall Islands                NaN   \n",
       "3  SpaceX  3 August 2008        3:34  Marshall Islands                NaN   \n",
       "4  SpaceX  3 August 2008        3:34  Marshall Islands                NaN   \n",
       "\n",
       "   Wind speed (MPH)  Humidity (%) Vehicle Type  Liftoff Thrust (kN)  \\\n",
       "0               9.0          74.0     Falcon 1                  343   \n",
       "1               NaN           NaN     Falcon 1                  343   \n",
       "2               NaN           NaN     Falcon 1                  343   \n",
       "3               NaN           NaN     Falcon 1                  343   \n",
       "4               NaN           NaN     Falcon 1                  343   \n",
       "\n",
       "   Payload to Orbit (kg)  Rocket Height (m)  Fairing Diameter (m)  \\\n",
       "0                    470              22.25                   1.5   \n",
       "1                    470              22.25                   1.5   \n",
       "2                    470              22.25                   1.5   \n",
       "3                    470              22.25                   1.5   \n",
       "4                    470              22.25                   1.5   \n",
       "\n",
       "         Payload Name             Payload Type Payload Mass (kg)  \\\n",
       "0         FalconSAT-2       Research Satellite              19.5   \n",
       "1             DemoSat           Mass simulator               NaN   \n",
       "2         Trailblazer  Communication Satellite               NaN   \n",
       "3  PRESat, NanoSail-D      Research Satellites                 8   \n",
       "4           Explorers            Human Remains               NaN   \n",
       "\n",
       "     Payload Orbit Mission Status                 Failure Reason  \n",
       "0  Low Earth Orbit        Failure      Engine Fire During Launch  \n",
       "1  Low Earth Orbit        Failure  Engine Shutdown During Launch  \n",
       "2  Low Earth Orbit        Failure        Collision During Launch  \n",
       "3  Low Earth Orbit        Failure        Collision During Launch  \n",
       "4  Low Earth Orbit        Failure        Collision During Launch  "
      ]
     },
     "execution_count": 3,
     "metadata": {},
     "output_type": "execute_result"
    }
   ],
   "source": [
    "# Загружаем датасет\n",
    "data = pd.read_csv('C:/Users/Vladimir/Coding/CSV_Datasets/For BI/SpaceMissions.csv', parse_dates=True)\n",
    "data.head()"
   ]
  },
  {
   "cell_type": "code",
   "execution_count": 4,
   "metadata": {},
   "outputs": [
    {
     "data": {
      "text/plain": [
       "(150, 18)"
      ]
     },
     "execution_count": 4,
     "metadata": {},
     "output_type": "execute_result"
    }
   ],
   "source": [
    "# Смотрим на размерность\n",
    "data.shape"
   ]
  },
  {
   "cell_type": "code",
   "execution_count": 5,
   "metadata": {},
   "outputs": [
    {
     "name": "stdout",
     "output_type": "stream",
     "text": [
      "<class 'pandas.core.frame.DataFrame'>\n",
      "RangeIndex: 150 entries, 0 to 149\n",
      "Data columns (total 18 columns):\n",
      " #   Column                 Non-Null Count  Dtype  \n",
      "---  ------                 --------------  -----  \n",
      " 0   Company                150 non-null    object \n",
      " 1   Launch Date            150 non-null    object \n",
      " 2   Launch Time            146 non-null    object \n",
      " 3   Launch Site            150 non-null    object \n",
      " 4   Temperature (° F)      136 non-null    float64\n",
      " 5   Wind speed (MPH)       136 non-null    float64\n",
      " 6   Humidity (%)           136 non-null    float64\n",
      " 7   Vehicle Type           150 non-null    object \n",
      " 8   Liftoff Thrust (kN)    150 non-null    int64  \n",
      " 9   Payload to Orbit (kg)  150 non-null    int64  \n",
      " 10  Rocket Height (m)      150 non-null    float64\n",
      " 11  Fairing Diameter (m)   146 non-null    float64\n",
      " 12  Payload Name           150 non-null    object \n",
      " 13  Payload Type           148 non-null    object \n",
      " 14  Payload Mass (kg)      133 non-null    object \n",
      " 15  Payload Orbit          150 non-null    object \n",
      " 16  Mission Status         150 non-null    object \n",
      " 17  Failure Reason         29 non-null     object \n",
      "dtypes: float64(5), int64(2), object(11)\n",
      "memory usage: 21.2+ KB\n"
     ]
    }
   ],
   "source": [
    "# Смотрим на типы полей и в третьей колонке сразу замечаем\n",
    "# что некоторые столбцы имеют значения < 150. Т.е. там есть NaN значения\n",
    "data.info()"
   ]
  },
  {
   "cell_type": "code",
   "execution_count": 6,
   "metadata": {},
   "outputs": [
    {
     "data": {
      "text/plain": [
       "Company                    0\n",
       "Launch Date                0\n",
       "Launch Time                4\n",
       "Launch Site                0\n",
       "Temperature (° F)         14\n",
       "Wind speed (MPH)          14\n",
       "Humidity (%)              14\n",
       "Vehicle Type               0\n",
       "Liftoff Thrust (kN)        0\n",
       "Payload to Orbit (kg)      0\n",
       "Rocket Height (m)          0\n",
       "Fairing Diameter (m)       4\n",
       "Payload Name               0\n",
       "Payload Type               2\n",
       "Payload Mass (kg)         17\n",
       "Payload Orbit              0\n",
       "Mission Status             0\n",
       "Failure Reason           121\n",
       "dtype: int64"
      ]
     },
     "execution_count": 6,
     "metadata": {},
     "output_type": "execute_result"
    }
   ],
   "source": [
    "# Считаем Nan'ы по столбцам\n",
    "data.isnull().sum()"
   ]
  },
  {
   "cell_type": "markdown",
   "metadata": {},
   "source": [
    "Приступаем к чистке. Нам нужно убрать Nan'ы. Будем заполнять их с помощью модуля SimpleImputer библиотеки sklearn.\n",
    "Начинаем с первого поля -  Launch Time, и так двигаемся вниз по списку."
   ]
  },
  {
   "cell_type": "code",
   "execution_count": 7,
   "metadata": {},
   "outputs": [],
   "source": [
    "# Чисттим Launch Time. Используем стратегию most frequent\n",
    "x = data.iloc[:, 2].values\n",
    "x = x.reshape(-1,1) \n",
    "imputer = SimpleImputer(missing_values=np.nan, strategy='most_frequent')\n",
    "imputer = imputer.fit(x)\n",
    "x = imputer.transform(x)\n",
    "data.iloc[:, 2] = x "
   ]
  },
  {
   "cell_type": "code",
   "execution_count": 8,
   "metadata": {},
   "outputs": [
    {
     "data": {
      "text/plain": [
       "count       150\n",
       "unique      132\n",
       "top       14:29\n",
       "freq          7\n",
       "Name: Launch Time, dtype: object"
      ]
     },
     "execution_count": 8,
     "metadata": {},
     "output_type": "execute_result"
    }
   ],
   "source": [
    "# Смотрим на результаты\n",
    "data['Launch Time'].describe()"
   ]
  },
  {
   "cell_type": "code",
   "execution_count": 9,
   "metadata": {},
   "outputs": [
    {
     "data": {
      "text/plain": [
       "Company                    0\n",
       "Launch Date                0\n",
       "Launch Time                0\n",
       "Launch Site                0\n",
       "Temperature (° F)          0\n",
       "Wind speed (MPH)          14\n",
       "Humidity (%)              14\n",
       "Vehicle Type               0\n",
       "Liftoff Thrust (kN)        0\n",
       "Payload to Orbit (kg)      0\n",
       "Rocket Height (m)          0\n",
       "Fairing Diameter (m)       4\n",
       "Payload Name               0\n",
       "Payload Type               2\n",
       "Payload Mass (kg)         17\n",
       "Payload Orbit              0\n",
       "Mission Status             0\n",
       "Failure Reason           121\n",
       "dtype: int64"
      ]
     },
     "execution_count": 9,
     "metadata": {},
     "output_type": "execute_result"
    }
   ],
   "source": [
    "# Заполняем поле Temperature (° F). Теперь будем заполнять по среднему значению\n",
    "x = data.iloc[:, 4].values\n",
    "x = x.reshape(-1,1)\n",
    "imputer = SimpleImputer(missing_values=np.nan, strategy='mean')\n",
    "imputer = imputer.fit(x)\n",
    "x = imputer.transform(x)\n",
    "data.iloc[:, 4] = x\n",
    "data.isnull().sum()"
   ]
  },
  {
   "cell_type": "code",
   "execution_count": 10,
   "metadata": {},
   "outputs": [
    {
     "data": {
      "text/plain": [
       "Company                    0\n",
       "Launch Date                0\n",
       "Launch Time                0\n",
       "Launch Site                0\n",
       "Temperature (° F)          0\n",
       "Wind speed (MPH)           0\n",
       "Humidity (%)              14\n",
       "Vehicle Type               0\n",
       "Liftoff Thrust (kN)        0\n",
       "Payload to Orbit (kg)      0\n",
       "Rocket Height (m)          0\n",
       "Fairing Diameter (m)       4\n",
       "Payload Name               0\n",
       "Payload Type               2\n",
       "Payload Mass (kg)         17\n",
       "Payload Orbit              0\n",
       "Mission Status             0\n",
       "Failure Reason           121\n",
       "dtype: int64"
      ]
     },
     "execution_count": 10,
     "metadata": {},
     "output_type": "execute_result"
    }
   ],
   "source": [
    "# Скорость ветра (Wind speed (MPH))\n",
    "x = data.iloc[:, 5].values\n",
    "x = x.reshape(-1,1)\n",
    "imputer = SimpleImputer(missing_values=np.nan, strategy='mean')\n",
    "imputer = imputer.fit(x)\n",
    "x = imputer.transform(x)\n",
    "data.iloc[:, 5] = x\n",
    "data.isnull().sum()"
   ]
  },
  {
   "cell_type": "code",
   "execution_count": 11,
   "metadata": {},
   "outputs": [
    {
     "data": {
      "text/plain": [
       "Company                    0\n",
       "Launch Date                0\n",
       "Launch Time                0\n",
       "Launch Site                0\n",
       "Temperature (° F)          0\n",
       "Wind speed (MPH)           0\n",
       "Humidity (%)               0\n",
       "Vehicle Type               0\n",
       "Liftoff Thrust (kN)        0\n",
       "Payload to Orbit (kg)      0\n",
       "Rocket Height (m)          0\n",
       "Fairing Diameter (m)       4\n",
       "Payload Name               0\n",
       "Payload Type               2\n",
       "Payload Mass (kg)         17\n",
       "Payload Orbit              0\n",
       "Mission Status             0\n",
       "Failure Reason           121\n",
       "dtype: int64"
      ]
     },
     "execution_count": 11,
     "metadata": {},
     "output_type": "execute_result"
    }
   ],
   "source": [
    "# Влажность Humidity (%)\n",
    "x = data.iloc[:, 6].values\n",
    "x = x.reshape(-1,1)\n",
    "imputer = SimpleImputer(missing_values=np.nan, strategy='mean')\n",
    "imputer = imputer.fit(x)\n",
    "x = imputer.transform(x)\n",
    "data.iloc[:, 6] = x\n",
    "data.isnull().sum()"
   ]
  },
  {
   "cell_type": "markdown",
   "metadata": {},
   "source": [
    "Теперь более сложная задача. До этого мы заполняли NaN средними, взятым по всему диапозону значений.\n",
    "Следующее по порядку поле - Fairing Diameter (m) (диаметр обтекателя). И здесь мы не можем применить такую стратегию, т.к. диаметр обтекателя у разных вендоров свой. Нам нужно вычислять среднюю взятую по диапозону зачений каждого вендора.\n",
    "Смотрим на метрики поля 'Fairing Diameter (m)'"
   ]
  },
  {
   "cell_type": "code",
   "execution_count": 12,
   "metadata": {
    "scrolled": true
   },
   "outputs": [
    {
     "data": {
      "text/plain": [
       "count    146.000000\n",
       "mean       4.252329\n",
       "std        1.308869\n",
       "min        1.000000\n",
       "25%        3.000000\n",
       "50%        5.200000\n",
       "75%        5.200000\n",
       "max        5.400000\n",
       "Name: Fairing Diameter (m), dtype: float64"
      ]
     },
     "execution_count": 12,
     "metadata": {},
     "output_type": "execute_result"
    }
   ],
   "source": [
    "data['Fairing Diameter (m)'].describe() # 150-146 = 4 NaN значения"
   ]
  },
  {
   "cell_type": "code",
   "execution_count": 13,
   "metadata": {},
   "outputs": [
    {
     "data": {
      "text/html": [
       "<div>\n",
       "<style scoped>\n",
       "    .dataframe tbody tr th:only-of-type {\n",
       "        vertical-align: middle;\n",
       "    }\n",
       "\n",
       "    .dataframe tbody tr th {\n",
       "        vertical-align: top;\n",
       "    }\n",
       "\n",
       "    .dataframe thead th {\n",
       "        text-align: right;\n",
       "    }\n",
       "</style>\n",
       "<table border=\"1\" class=\"dataframe\">\n",
       "  <thead>\n",
       "    <tr style=\"text-align: right;\">\n",
       "      <th></th>\n",
       "      <th>Company</th>\n",
       "      <th>Launch Date</th>\n",
       "      <th>Launch Time</th>\n",
       "      <th>Launch Site</th>\n",
       "      <th>Temperature (° F)</th>\n",
       "      <th>Wind speed (MPH)</th>\n",
       "      <th>Humidity (%)</th>\n",
       "      <th>Vehicle Type</th>\n",
       "      <th>Liftoff Thrust (kN)</th>\n",
       "      <th>Payload to Orbit (kg)</th>\n",
       "      <th>Rocket Height (m)</th>\n",
       "      <th>Fairing Diameter (m)</th>\n",
       "      <th>Payload Name</th>\n",
       "      <th>Payload Type</th>\n",
       "      <th>Payload Mass (kg)</th>\n",
       "      <th>Payload Orbit</th>\n",
       "      <th>Mission Status</th>\n",
       "      <th>Failure Reason</th>\n",
       "    </tr>\n",
       "  </thead>\n",
       "  <tbody>\n",
       "    <tr>\n",
       "      <th>21</th>\n",
       "      <td>European Space Agency</td>\n",
       "      <td>23 May 1980</td>\n",
       "      <td>14:29</td>\n",
       "      <td>Guiana Space Centre</td>\n",
       "      <td>70.441176</td>\n",
       "      <td>8.007353</td>\n",
       "      <td>76.066176</td>\n",
       "      <td>Ariane 1</td>\n",
       "      <td>2772</td>\n",
       "      <td>1850</td>\n",
       "      <td>50.00</td>\n",
       "      <td>NaN</td>\n",
       "      <td>CAT-2 / Amsat P3A / Firewheel Subsat</td>\n",
       "      <td>Communication Satellite</td>\n",
       "      <td>NaN</td>\n",
       "      <td>Geostationary Transfer Orbit</td>\n",
       "      <td>Failure</td>\n",
       "      <td>Combustion instability that had occurred in on...</td>\n",
       "    </tr>\n",
       "    <tr>\n",
       "      <th>22</th>\n",
       "      <td>European Space Agency</td>\n",
       "      <td>9 September 1982</td>\n",
       "      <td>2:12</td>\n",
       "      <td>Guiana Space Centre</td>\n",
       "      <td>70.441176</td>\n",
       "      <td>8.007353</td>\n",
       "      <td>76.066176</td>\n",
       "      <td>Ariane 1</td>\n",
       "      <td>2772</td>\n",
       "      <td>1850</td>\n",
       "      <td>50.00</td>\n",
       "      <td>NaN</td>\n",
       "      <td>MARCES-B / Sirio-2</td>\n",
       "      <td>Communication Satellite</td>\n",
       "      <td>1710</td>\n",
       "      <td>Geostationary Transfer Orbit</td>\n",
       "      <td>Failure</td>\n",
       "      <td>Third stage turbopump malfunction.</td>\n",
       "    </tr>\n",
       "    <tr>\n",
       "      <th>28</th>\n",
       "      <td>Arianespace</td>\n",
       "      <td>4 June 1996</td>\n",
       "      <td>12:34</td>\n",
       "      <td>Guiana Space Centre</td>\n",
       "      <td>70.441176</td>\n",
       "      <td>8.007353</td>\n",
       "      <td>76.066176</td>\n",
       "      <td>Ariane 5 G</td>\n",
       "      <td>11400</td>\n",
       "      <td>6900</td>\n",
       "      <td>52.00</td>\n",
       "      <td>NaN</td>\n",
       "      <td>Cluster</td>\n",
       "      <td>European Space Agency spacecraft</td>\n",
       "      <td>NaN</td>\n",
       "      <td>High Earth Orbit</td>\n",
       "      <td>Failure</td>\n",
       "      <td>The Ariane 5 program's first launch failed bec...</td>\n",
       "    </tr>\n",
       "    <tr>\n",
       "      <th>29</th>\n",
       "      <td>Arianespace</td>\n",
       "      <td>1 December 1994</td>\n",
       "      <td>22:57</td>\n",
       "      <td>Guiana Space Centre</td>\n",
       "      <td>70.441176</td>\n",
       "      <td>8.007353</td>\n",
       "      <td>76.066176</td>\n",
       "      <td>Ariane 42P</td>\n",
       "      <td>4334</td>\n",
       "      <td>2930</td>\n",
       "      <td>58.72</td>\n",
       "      <td>NaN</td>\n",
       "      <td>Panamsat-3</td>\n",
       "      <td>Communication Satellite</td>\n",
       "      <td>2920</td>\n",
       "      <td>Geostationary Transfer Orbit</td>\n",
       "      <td>Failure</td>\n",
       "      <td>NaN</td>\n",
       "    </tr>\n",
       "  </tbody>\n",
       "</table>\n",
       "</div>"
      ],
      "text/plain": [
       "                  Company       Launch Date Launch Time           Launch Site  \\\n",
       "21  European Space Agency       23 May 1980       14:29   Guiana Space Centre   \n",
       "22  European Space Agency  9 September 1982        2:12   Guiana Space Centre   \n",
       "28            Arianespace       4 June 1996       12:34   Guiana Space Centre   \n",
       "29            Arianespace   1 December 1994       22:57   Guiana Space Centre   \n",
       "\n",
       "    Temperature (° F)  Wind speed (MPH)  Humidity (%) Vehicle Type  \\\n",
       "21          70.441176          8.007353     76.066176     Ariane 1   \n",
       "22          70.441176          8.007353     76.066176     Ariane 1   \n",
       "28          70.441176          8.007353     76.066176   Ariane 5 G   \n",
       "29          70.441176          8.007353     76.066176   Ariane 42P   \n",
       "\n",
       "    Liftoff Thrust (kN)  Payload to Orbit (kg)  Rocket Height (m)  \\\n",
       "21                 2772                   1850              50.00   \n",
       "22                 2772                   1850              50.00   \n",
       "28                11400                   6900              52.00   \n",
       "29                 4334                   2930              58.72   \n",
       "\n",
       "    Fairing Diameter (m)                          Payload Name  \\\n",
       "21                   NaN  CAT-2 / Amsat P3A / Firewheel Subsat   \n",
       "22                   NaN                    MARCES-B / Sirio-2   \n",
       "28                   NaN                               Cluster   \n",
       "29                   NaN                            Panamsat-3   \n",
       "\n",
       "                        Payload Type Payload Mass (kg)  \\\n",
       "21           Communication Satellite               NaN   \n",
       "22           Communication Satellite              1710   \n",
       "28  European Space Agency spacecraft               NaN   \n",
       "29           Communication Satellite              2920   \n",
       "\n",
       "                   Payload Orbit Mission Status  \\\n",
       "21  Geostationary Transfer Orbit        Failure   \n",
       "22  Geostationary Transfer Orbit        Failure   \n",
       "28              High Earth Orbit        Failure   \n",
       "29  Geostationary Transfer Orbit        Failure   \n",
       "\n",
       "                                       Failure Reason  \n",
       "21  Combustion instability that had occurred in on...  \n",
       "22                 Third stage turbopump malfunction.  \n",
       "28  The Ariane 5 program's first launch failed bec...  \n",
       "29                                                NaN  "
      ]
     },
     "execution_count": 13,
     "metadata": {},
     "output_type": "execute_result"
    }
   ],
   "source": [
    "# Выводим строки, где значения по этому полю Nan\n",
    "data[data[\"Fairing Diameter (m)\"].isnull()]"
   ]
  },
  {
   "cell_type": "markdown",
   "metadata": {},
   "source": [
    "Это значит, что нам нужно посчитать средний диаметр обтекателя ракеты по двум вендороам: European Space Agency и Arianespace"
   ]
  },
  {
   "cell_type": "code",
   "execution_count": 14,
   "metadata": {},
   "outputs": [
    {
     "data": {
      "text/plain": [
       "26    2.6\n",
       "27    5.4\n",
       "28    NaN\n",
       "29    NaN\n",
       "Name: Fairing Diameter (m), dtype: float64"
      ]
     },
     "execution_count": 14,
     "metadata": {},
     "output_type": "execute_result"
    }
   ],
   "source": [
    "# У первого вендора есть 2 точных значения и 2 пустых\n",
    "fm_arienaspace = data[data['Company'] == 'Arianespace']\n",
    "list_1 = fm_arienaspace['Fairing Diameter (m)']\n",
    "list_1"
   ]
  },
  {
   "cell_type": "code",
   "execution_count": 15,
   "metadata": {},
   "outputs": [
    {
     "data": {
      "text/plain": [
       "21   NaN\n",
       "22   NaN\n",
       "Name: Fairing Diameter (m), dtype: float64"
      ]
     },
     "execution_count": 15,
     "metadata": {},
     "output_type": "execute_result"
    }
   ],
   "source": [
    "# У второго вендора оба значения пустые. Значит нам остается заполнить их значениями от Arianespace\n",
    "fm_arienaspace = data[data['Company'] == 'European Space Agency']\n",
    "list_1 = fm_arienaspace['Fairing Diameter (m)']\n",
    "list_1"
   ]
  },
  {
   "cell_type": "code",
   "execution_count": 16,
   "metadata": {},
   "outputs": [
    {
     "data": {
      "text/plain": [
       "array([1.5 , 5.2 , 2.9 , 4.  , 5.1 , 3.  , 1.52,  nan, 1.  , 2.6 , 5.4 ])"
      ]
     },
     "execution_count": 16,
     "metadata": {},
     "output_type": "execute_result"
    }
   ],
   "source": [
    "#Смотрим на состав значений для Fairing diameter\n",
    "data['Fairing Diameter (m)'].unique()"
   ]
  },
  {
   "cell_type": "code",
   "execution_count": 17,
   "metadata": {},
   "outputs": [
    {
     "data": {
      "text/plain": [
       "array([1.5 , 5.2 , 2.9 , 4.  , 5.1 , 3.  , 1.52, 1.  , 2.6 , 5.4 ])"
      ]
     },
     "execution_count": 17,
     "metadata": {},
     "output_type": "execute_result"
    }
   ],
   "source": [
    "# Заполняем NaN 'Fairing Diameter (m)' средней по Arianespace\n",
    "fm_arienaspace = data[data['Company'] == 'Arianespace']\n",
    "list_1 = fm_arienaspace['Fairing Diameter (m)']\n",
    "\n",
    "x = np.mean(list_1)\n",
    "\n",
    "for a,b in zip(data['Company'], data['Fairing Diameter (m)']):\n",
    "    if a == 'Arianespace'or a == 'European Space Agency':\n",
    "         data[\"Fairing Diameter (m)\"] = data[\"Fairing Diameter (m)\"].fillna(x)\n",
    "data['Fairing Diameter (m)'].unique()"
   ]
  },
  {
   "cell_type": "code",
   "execution_count": 18,
   "metadata": {},
   "outputs": [
    {
     "data": {
      "text/html": [
       "<div>\n",
       "<style scoped>\n",
       "    .dataframe tbody tr th:only-of-type {\n",
       "        vertical-align: middle;\n",
       "    }\n",
       "\n",
       "    .dataframe tbody tr th {\n",
       "        vertical-align: top;\n",
       "    }\n",
       "\n",
       "    .dataframe thead th {\n",
       "        text-align: right;\n",
       "    }\n",
       "</style>\n",
       "<table border=\"1\" class=\"dataframe\">\n",
       "  <thead>\n",
       "    <tr style=\"text-align: right;\">\n",
       "      <th></th>\n",
       "      <th>Company</th>\n",
       "      <th>Launch Date</th>\n",
       "      <th>Launch Time</th>\n",
       "      <th>Launch Site</th>\n",
       "      <th>Temperature (° F)</th>\n",
       "      <th>Wind speed (MPH)</th>\n",
       "      <th>Humidity (%)</th>\n",
       "      <th>Vehicle Type</th>\n",
       "      <th>Liftoff Thrust (kN)</th>\n",
       "      <th>Payload to Orbit (kg)</th>\n",
       "      <th>Rocket Height (m)</th>\n",
       "      <th>Fairing Diameter (m)</th>\n",
       "      <th>Payload Name</th>\n",
       "      <th>Payload Type</th>\n",
       "      <th>Payload Mass (kg)</th>\n",
       "      <th>Payload Orbit</th>\n",
       "      <th>Mission Status</th>\n",
       "      <th>Failure Reason</th>\n",
       "    </tr>\n",
       "  </thead>\n",
       "  <tbody>\n",
       "    <tr>\n",
       "      <th>30</th>\n",
       "      <td>SpaceX</td>\n",
       "      <td>28 September 2008</td>\n",
       "      <td>23:15</td>\n",
       "      <td>Marshall Islands</td>\n",
       "      <td>70.441176</td>\n",
       "      <td>8.007353</td>\n",
       "      <td>76.066176</td>\n",
       "      <td>Falcon 1</td>\n",
       "      <td>343</td>\n",
       "      <td>470</td>\n",
       "      <td>22.25</td>\n",
       "      <td>1.5</td>\n",
       "      <td>RatSat (DemoSat)</td>\n",
       "      <td>NaN</td>\n",
       "      <td>165</td>\n",
       "      <td>Low Earth Orbit</td>\n",
       "      <td>Success</td>\n",
       "      <td>NaN</td>\n",
       "    </tr>\n",
       "    <tr>\n",
       "      <th>32</th>\n",
       "      <td>SpaceX</td>\n",
       "      <td>4 June 2010</td>\n",
       "      <td>18:45</td>\n",
       "      <td>Cape Canaveral</td>\n",
       "      <td>78.000000</td>\n",
       "      <td>7.000000</td>\n",
       "      <td>88.000000</td>\n",
       "      <td>Falcon 9 (v1.0)</td>\n",
       "      <td>4940</td>\n",
       "      <td>10450</td>\n",
       "      <td>54.90</td>\n",
       "      <td>5.2</td>\n",
       "      <td>Dragon Spacecraft Qualification Unit</td>\n",
       "      <td>NaN</td>\n",
       "      <td>NaN</td>\n",
       "      <td>Low Earth Orbit</td>\n",
       "      <td>Success</td>\n",
       "      <td>NaN</td>\n",
       "    </tr>\n",
       "  </tbody>\n",
       "</table>\n",
       "</div>"
      ],
      "text/plain": [
       "   Company        Launch Date Launch Time       Launch Site  \\\n",
       "30  SpaceX  28 September 2008       23:15  Marshall Islands   \n",
       "32  SpaceX        4 June 2010       18:45    Cape Canaveral   \n",
       "\n",
       "    Temperature (° F)  Wind speed (MPH)  Humidity (%)     Vehicle Type  \\\n",
       "30          70.441176          8.007353     76.066176         Falcon 1   \n",
       "32          78.000000          7.000000     88.000000  Falcon 9 (v1.0)   \n",
       "\n",
       "    Liftoff Thrust (kN)  Payload to Orbit (kg)  Rocket Height (m)  \\\n",
       "30                  343                    470              22.25   \n",
       "32                 4940                  10450              54.90   \n",
       "\n",
       "    Fairing Diameter (m)                          Payload Name Payload Type  \\\n",
       "30                   1.5                      RatSat (DemoSat)          NaN   \n",
       "32                   5.2  Dragon Spacecraft Qualification Unit          NaN   \n",
       "\n",
       "   Payload Mass (kg)    Payload Orbit Mission Status Failure Reason  \n",
       "30               165  Low Earth Orbit        Success            NaN  \n",
       "32               NaN  Low Earth Orbit        Success            NaN  "
      ]
     },
     "execution_count": 18,
     "metadata": {},
     "output_type": "execute_result"
    }
   ],
   "source": [
    "# Смотрим NaNы в Payload Type. Оба у SpaceX\n",
    "data[data['Payload Type'].isnull()]"
   ]
  },
  {
   "cell_type": "code",
   "execution_count": 19,
   "metadata": {
    "scrolled": false
   },
   "outputs": [
    {
     "data": {
      "text/plain": [
       "array(['Research Satellite', 'Mass simulator', 'Communication Satellite',\n",
       "       'Research Satellites', 'Human Remains', 'Space Station Supplies',\n",
       "       nan, 'Weather Satellite', 'Communication/Research Satellite',\n",
       "       'Classified', 'high-speed mobile broadband service',\n",
       "       'Earth observation satellite', 'reusable uncrewed spacecraft',\n",
       "       'Direct-to-Home (DTH) broadcast, broadband, and backhaul services',\n",
       "       'Governmental and institutional security user needs satellite',\n",
       "       'Tesla carrying mannequin Starman – sporting SpaceX spacesuit',\n",
       "       \"Spain's spy satellite / internet satellite\", 'Star monitor',\n",
       "       'Communication Satellite / Research satellite',\n",
       "       'Direct-to-Home Television Services', 'GPS III satellites',\n",
       "       'Communication Satellite / Moon lander / Reseach Satellite',\n",
       "       'Uncrewed Test Commercial Crew program',\n",
       "       'Earth observation satellites', 'in-flight abort test'],\n",
       "      dtype=object)"
      ]
     },
     "execution_count": 19,
     "metadata": {},
     "output_type": "execute_result"
    }
   ],
   "source": [
    "# А что вообще в этом столбце ?\n",
    "pld_spacex = data[data['Company'] == 'SpaceX']\n",
    "pld_spacex[pld_spacex['Payload Type'].notnull()]\n",
    "pld_spacex['Payload Type'].unique()"
   ]
  },
  {
   "cell_type": "code",
   "execution_count": 20,
   "metadata": {},
   "outputs": [
    {
     "data": {
      "text/plain": [
       "count                          94\n",
       "unique                         24\n",
       "top       Communication Satellite\n",
       "freq                           45\n",
       "Name: Payload Type, dtype: object"
      ]
     },
     "execution_count": 20,
     "metadata": {},
     "output_type": "execute_result"
    }
   ],
   "source": [
    "# Смотрим метрики Payload Type именно по SpaceX\n",
    "pld_spacex = data[data['Company'] == 'SpaceX']\n",
    "pld_spacex['Payload Type'].describe()"
   ]
  },
  {
   "cell_type": "markdown",
   "metadata": {},
   "source": [
    "Top у Communication Satellite. Тогда им и заполним Nan'ы"
   ]
  },
  {
   "cell_type": "code",
   "execution_count": 21,
   "metadata": {},
   "outputs": [
    {
     "data": {
      "text/plain": [
       "Company                    0\n",
       "Launch Date                0\n",
       "Launch Time                0\n",
       "Launch Site                0\n",
       "Temperature (° F)          0\n",
       "Wind speed (MPH)           0\n",
       "Humidity (%)               0\n",
       "Vehicle Type               0\n",
       "Liftoff Thrust (kN)        0\n",
       "Payload to Orbit (kg)      0\n",
       "Rocket Height (m)          0\n",
       "Fairing Diameter (m)       0\n",
       "Payload Name               0\n",
       "Payload Type               0\n",
       "Payload Mass (kg)         17\n",
       "Payload Orbit              0\n",
       "Mission Status             0\n",
       "Failure Reason           121\n",
       "dtype: int64"
      ]
     },
     "execution_count": 21,
     "metadata": {},
     "output_type": "execute_result"
    }
   ],
   "source": [
    "# Заполняем Payload Type\n",
    "data['Payload Type'] = data['Payload Type'].fillna('Communication Satellite')\n",
    "data.isnull().sum()"
   ]
  },
  {
   "cell_type": "code",
   "execution_count": 22,
   "metadata": {},
   "outputs": [
    {
     "data": {
      "text/plain": [
       "array(['DemoSat', 'Trailblazer', 'Explorers', 'Orion 3',\n",
       "       'DemoSat / 3CS-1 & 2', 'IDCSP GGTS-2', 'LCS-2',\n",
       "       'CAT-2 / Amsat P3A / Firewheel Subsat', 'Cluster',\n",
       "       'Dragon Spacecraft Qualification Unit', 'SpaceX CRS (Dragon C1)',\n",
       "       'SpaceX CRS (Dragon C2+)', 'OG2 Mission 1 (6 OG2 Satellites)',\n",
       "       'OG2 Mission 2 (11 OG2 Satellites)', 'STP-2', 'MS-11', 'BONUM-1'],\n",
       "      dtype=object)"
      ]
     },
     "execution_count": 22,
     "metadata": {},
     "output_type": "execute_result"
    }
   ],
   "source": [
    "#Смотрим у каких спутников отсутствует значение Payload Mass (kg)\n",
    "a = data[data['Payload Mass (kg)'].isnull()]\n",
    "a['Payload Name'].unique()"
   ]
  },
  {
   "cell_type": "code",
   "execution_count": 23,
   "metadata": {},
   "outputs": [
    {
     "data": {
      "text/plain": [
       "array(['19.5', nan, '8', '150', '1952', '5500', '711', '2030', '700',\n",
       "       '2750', '3000', '0', '1710', '115', '80', '74', '1197', '5480',\n",
       "       '2920', '165', '180', '500', '677', '3170', '3325', '2296', '4535',\n",
       "       '4428', '2216', '2395', '570', '4159', '1898', '4707', '553',\n",
       "       '5271', '3136', '4696', '3100', '3600', '2257', '4600', '9600',\n",
       "       '2490', '5600', '5300', 'Classified', '6070', '2708', '3669',\n",
       "       '6761', '3310', '475', '4990', '5200', '3500', '2205', '4230',\n",
       "       '1300', '2141', '6092', '2647', '362', '5960', '5400', '2700',\n",
       "       '7080', '5800', '7060', '2573', '3880', '5380', '6000', '2500',\n",
       "       '13620', '4200', '6500', '15600', '6956', '6350', '338', '290',\n",
       "       '305', '2450', '2200', '550', '1360', '2032', '210', '4348', '673',\n",
       "       '758', '1800', '835', '636', '1100', '660', '689', '3117', '328',\n",
       "       '970'], dtype=object)"
      ]
     },
     "execution_count": 23,
     "metadata": {},
     "output_type": "execute_result"
    }
   ],
   "source": [
    "# А что вообще там?\n",
    "data['Payload Mass (kg)'].unique()"
   ]
  },
  {
   "cell_type": "markdown",
   "metadata": {},
   "source": [
    "В наборе числовых значений затесалось  текстовое значние 'Classified'. \n",
    "Будем его вычищать"
   ]
  },
  {
   "cell_type": "code",
   "execution_count": 24,
   "metadata": {},
   "outputs": [],
   "source": [
    "# фильтруем и присваиваем значение 0\n",
    "data.loc[ data['Payload Mass (kg)'] == 'Classified', 'Payload Mass (kg)'] = 0 "
   ]
  },
  {
   "cell_type": "code",
   "execution_count": 25,
   "metadata": {},
   "outputs": [
    {
     "data": {
      "text/plain": [
       "array(['19.5', nan, '8', '150', '1952', '5500', '711', '2030', '700',\n",
       "       '2750', '3000', '0', '1710', '115', '80', '74', '1197', '5480',\n",
       "       '2920', '165', '180', '500', '677', '3170', '3325', '2296', '4535',\n",
       "       '4428', '2216', '2395', '570', '4159', '1898', '4707', '553',\n",
       "       '5271', '3136', '4696', '3100', '3600', '2257', '4600', '9600',\n",
       "       '2490', '5600', '5300', 0, '6070', '2708', '3669', '6761', '3310',\n",
       "       '475', '4990', '5200', '3500', '2205', '4230', '1300', '2141',\n",
       "       '6092', '2647', '362', '5960', '5400', '2700', '7080', '5800',\n",
       "       '7060', '2573', '3880', '5380', '6000', '2500', '13620', '4200',\n",
       "       '6500', '15600', '6956', '6350', '338', '290', '305', '2450',\n",
       "       '2200', '550', '1360', '2032', '210', '4348', '673', '758', '1800',\n",
       "       '835', '636', '1100', '660', '689', '3117', '328', '970'],\n",
       "      dtype=object)"
      ]
     },
     "execution_count": 25,
     "metadata": {},
     "output_type": "execute_result"
    }
   ],
   "source": [
    "# текст убрали, дальше очередь Nan\n",
    "data['Payload Mass (kg)'].unique()"
   ]
  },
  {
   "cell_type": "code",
   "execution_count": 26,
   "metadata": {},
   "outputs": [
    {
     "data": {
      "text/plain": [
       "array([1.950e+01,       nan, 8.000e+00, 1.500e+02, 1.952e+03, 5.500e+03,\n",
       "       7.110e+02, 2.030e+03, 7.000e+02, 2.750e+03, 3.000e+03, 0.000e+00,\n",
       "       1.710e+03, 1.150e+02, 8.000e+01, 7.400e+01, 1.197e+03, 5.480e+03,\n",
       "       2.920e+03, 1.650e+02, 1.800e+02, 5.000e+02, 6.770e+02, 3.170e+03,\n",
       "       3.325e+03, 2.296e+03, 4.535e+03, 4.428e+03, 2.216e+03, 2.395e+03,\n",
       "       5.700e+02, 4.159e+03, 1.898e+03, 4.707e+03, 5.530e+02, 5.271e+03,\n",
       "       3.136e+03, 4.696e+03, 3.100e+03, 3.600e+03, 2.257e+03, 4.600e+03,\n",
       "       9.600e+03, 2.490e+03, 5.600e+03, 5.300e+03, 6.070e+03, 2.708e+03,\n",
       "       3.669e+03, 6.761e+03, 3.310e+03, 4.750e+02, 4.990e+03, 5.200e+03,\n",
       "       3.500e+03, 2.205e+03, 4.230e+03, 1.300e+03, 2.141e+03, 6.092e+03,\n",
       "       2.647e+03, 3.620e+02, 5.960e+03, 5.400e+03, 2.700e+03, 7.080e+03,\n",
       "       5.800e+03, 7.060e+03, 2.573e+03, 3.880e+03, 5.380e+03, 6.000e+03,\n",
       "       2.500e+03, 1.362e+04, 4.200e+03, 6.500e+03, 1.560e+04, 6.956e+03,\n",
       "       6.350e+03, 3.380e+02, 2.900e+02, 3.050e+02, 2.450e+03, 2.200e+03,\n",
       "       5.500e+02, 1.360e+03, 2.032e+03, 2.100e+02, 4.348e+03, 6.730e+02,\n",
       "       7.580e+02, 1.800e+03, 8.350e+02, 6.360e+02, 1.100e+03, 6.600e+02,\n",
       "       6.890e+02, 3.117e+03, 3.280e+02, 9.700e+02])"
      ]
     },
     "execution_count": 26,
     "metadata": {},
     "output_type": "execute_result"
    }
   ],
   "source": [
    "#обновим тип значений на float т.к у нас первое значение в массиве= 19,5\n",
    "data['Payload Mass (kg)'] = data['Payload Mass (kg)'].astype(float)\n",
    "data['Payload Mass (kg)'].unique()"
   ]
  },
  {
   "cell_type": "code",
   "execution_count": 27,
   "metadata": {},
   "outputs": [
    {
     "data": {
      "text/plain": [
       "Company                    0\n",
       "Launch Date                0\n",
       "Launch Time                0\n",
       "Launch Site                0\n",
       "Temperature (° F)          0\n",
       "Wind speed (MPH)           0\n",
       "Humidity (%)               0\n",
       "Vehicle Type               0\n",
       "Liftoff Thrust (kN)        0\n",
       "Payload to Orbit (kg)      0\n",
       "Rocket Height (m)          0\n",
       "Fairing Diameter (m)       0\n",
       "Payload Name               0\n",
       "Payload Type               0\n",
       "Payload Mass (kg)          0\n",
       "Payload Orbit              0\n",
       "Mission Status             0\n",
       "Failure Reason           121\n",
       "dtype: int64"
      ]
     },
     "execution_count": 27,
     "metadata": {},
     "output_type": "execute_result"
    }
   ],
   "source": [
    "# Заполняем Nan'ы в Payload Mass (kg) средним значением\n",
    "x = data.iloc[:, -4].values\n",
    "x = x.reshape(-1,1)\n",
    "imputer = SimpleImputer(missing_values=np.nan, strategy='mean')\n",
    "imputer = imputer.fit(x)\n",
    "x = imputer.transform(x)\n",
    "data.iloc[:, -4] = x\n",
    "\n",
    "data.isnull().sum()"
   ]
  },
  {
   "cell_type": "code",
   "execution_count": 29,
   "metadata": {},
   "outputs": [
    {
     "data": {
      "text/plain": [
       "array([   19,  3443,     8,   150,  1952,  5500,   711,  2030,   700,\n",
       "        2750,  3000,     0,  1710,   115,    80,    74,  1197,  5480,\n",
       "        2920,   165,   180,   500,   677,  3170,  3325,  2296,  4535,\n",
       "        4428,  2216,  2395,   570,  4159,  1898,  4707,   553,  5271,\n",
       "        3136,  4696,  3100,  3600,  2257,  4600,  9600,  2490,  5600,\n",
       "        5300,  6070,  2708,  3669,  6761,  3310,   475,  4990,  5200,\n",
       "        3500,  2205,  4230,  1300,  2141,  6092,  2647,   362,  5960,\n",
       "        5400,  2700,  7080,  5800,  7060,  2573,  3880,  5380,  6000,\n",
       "        2500, 13620,  4200,  6500, 15600,  6956,  6350,   338,   290,\n",
       "         305,  2450,  2200,   550,  1360,  2032,   210,  4348,   673,\n",
       "         758,  1800,   835,   636,  1100,   660,   689,  3117,   328,\n",
       "         970])"
      ]
     },
     "execution_count": 29,
     "metadata": {},
     "output_type": "execute_result"
    }
   ],
   "source": [
    "# конвертируем обратно в int\n",
    "data['Payload Mass (kg)'] = data['Payload Mass (kg)'].astype(int)\n",
    "data['Payload Mass (kg)'].unique()"
   ]
  },
  {
   "cell_type": "markdown",
   "metadata": {},
   "source": [
    "Наша задача - подготовить датасет для ML-моделирования. Это значит, что все категориальные значения должны\n",
    "быть закодированы в числовом формате. Этим мы и займемся далее"
   ]
  },
  {
   "cell_type": "code",
   "execution_count": 30,
   "metadata": {},
   "outputs": [
    {
     "data": {
      "text/plain": [
       "array(['SpaceX', 'Boeing', 'Martin Marietta', 'US Air Force',\n",
       "       'European Space Agency', 'Brazilian Space Agency', 'Arianespace'],\n",
       "      dtype=object)"
      ]
     },
     "execution_count": 30,
     "metadata": {},
     "output_type": "execute_result"
    }
   ],
   "source": [
    "#Столбец Company, смотрим на состав\n",
    "data['Company'].unique()"
   ]
  },
  {
   "cell_type": "code",
   "execution_count": 31,
   "metadata": {},
   "outputs": [],
   "source": [
    "# Кодируем значения в Company целыми числами\n",
    "label = LabelEncoder()\n",
    "dicts = {}\n",
    "label.fit(data['Company'].drop_duplicates()) \n",
    "data['Company'] = label.transform(data['Company'])"
   ]
  },
  {
   "cell_type": "code",
   "execution_count": 32,
   "metadata": {},
   "outputs": [
    {
     "data": {
      "text/plain": [
       "array([5, 1, 4, 6, 3, 2, 0])"
      ]
     },
     "execution_count": 32,
     "metadata": {},
     "output_type": "execute_result"
    }
   ],
   "source": [
    "#Company, смотрим что после кодирования\n",
    "data['Company'].unique()"
   ]
  },
  {
   "cell_type": "code",
   "execution_count": 62,
   "metadata": {},
   "outputs": [
    {
     "data": {
      "text/plain": [
       "array(['Marshall Islands', 'Cape Canaveral', 'Vandenberg ',\n",
       "       ' Guiana Space Centre', 'Alcântara Launch Center',\n",
       "       'Kennedy Space Center'], dtype=object)"
      ]
     },
     "execution_count": 62,
     "metadata": {},
     "output_type": "execute_result"
    }
   ],
   "source": [
    "#Launch Site по такому же принципу\n",
    "data['Launch Site'].unique()"
   ]
  },
  {
   "cell_type": "code",
   "execution_count": 33,
   "metadata": {},
   "outputs": [
    {
     "data": {
      "text/plain": [
       "array([4, 2, 5, 0, 1, 3])"
      ]
     },
     "execution_count": 33,
     "metadata": {},
     "output_type": "execute_result"
    }
   ],
   "source": [
    "#Launch Site по такому же принципу\n",
    "label.fit(data['Launch Site'].drop_duplicates()) \n",
    "data['Launch Site'] = label.transform(data['Launch Site']) \n",
    "data['Launch Site'].unique()"
   ]
  },
  {
   "cell_type": "code",
   "execution_count": 34,
   "metadata": {},
   "outputs": [
    {
     "data": {
      "text/plain": [
       "array(['Falcon 1', 'Falcon 9 (v1.0)', 'Falcon 9 (v1.1)',\n",
       "       'Falcon 9 Full Thrust (v1.2)', 'Delta II 7925', 'Delta III 8930',\n",
       "       'Delta IV Heavy', 'Titan II(23)G', 'Titan IIIC', 'Titan III(24)B',\n",
       "       'Titan IIIB', 'Titan IIIA', 'Ariane 1', 'VLS-1', 'Vega',\n",
       "       'Ariane 5 ECA', 'Ariane 5 G', 'Ariane 42P', 'Falcon 9 Block 3',\n",
       "       'Falcon 9 Block 4', 'Falcon Heavy', 'Falcon 9 Block 5',\n",
       "       'Delta II 7920-10C', 'Delta II 7425', 'Delta II 7426',\n",
       "       'Delta II 7920-10', 'Delta II 7420-10C', 'Delta II 7320-10C',\n",
       "       'Delta II 7326', 'Delta II 7425-10C', 'Delta IV Medium+ (4,2)'],\n",
       "      dtype=object)"
      ]
     },
     "execution_count": 34,
     "metadata": {},
     "output_type": "execute_result"
    }
   ],
   "source": [
    "#Исправим имя у Vehicle Type. Пробел между словами будет нам мешать на следующем шаге\n",
    "data = data.rename({'Vehicle Type': \"Vehicle_Type\"}, axis = 1) \n",
    "data['Vehicle_Type'].unique()"
   ]
  },
  {
   "cell_type": "markdown",
   "metadata": {},
   "source": [
    "Т.к. названий носителей много, то сгруппируем их по бренду"
   ]
  },
  {
   "cell_type": "code",
   "execution_count": 35,
   "metadata": {},
   "outputs": [],
   "source": [
    "data['vehicle_type'] = data.Vehicle_Type.str.extract('([A-Za-z]+)', expand=False)"
   ]
  },
  {
   "cell_type": "code",
   "execution_count": 36,
   "metadata": {},
   "outputs": [
    {
     "data": {
      "text/html": [
       "<div>\n",
       "<style scoped>\n",
       "    .dataframe tbody tr th:only-of-type {\n",
       "        vertical-align: middle;\n",
       "    }\n",
       "\n",
       "    .dataframe tbody tr th {\n",
       "        vertical-align: top;\n",
       "    }\n",
       "\n",
       "    .dataframe thead th {\n",
       "        text-align: right;\n",
       "    }\n",
       "</style>\n",
       "<table border=\"1\" class=\"dataframe\">\n",
       "  <thead>\n",
       "    <tr style=\"text-align: right;\">\n",
       "      <th></th>\n",
       "      <th>Company</th>\n",
       "      <th>Launch Date</th>\n",
       "      <th>Launch Time</th>\n",
       "      <th>Launch Site</th>\n",
       "      <th>Temperature (° F)</th>\n",
       "      <th>Wind speed (MPH)</th>\n",
       "      <th>Humidity (%)</th>\n",
       "      <th>Liftoff Thrust (kN)</th>\n",
       "      <th>Payload to Orbit (kg)</th>\n",
       "      <th>Rocket Height (m)</th>\n",
       "      <th>Fairing Diameter (m)</th>\n",
       "      <th>Payload Name</th>\n",
       "      <th>Payload Type</th>\n",
       "      <th>Payload Mass (kg)</th>\n",
       "      <th>Payload Orbit</th>\n",
       "      <th>Mission Status</th>\n",
       "      <th>Failure Reason</th>\n",
       "      <th>vehicle_type</th>\n",
       "    </tr>\n",
       "  </thead>\n",
       "  <tbody>\n",
       "    <tr>\n",
       "      <th>0</th>\n",
       "      <td>5</td>\n",
       "      <td>24 March 2006</td>\n",
       "      <td>22:30</td>\n",
       "      <td>4</td>\n",
       "      <td>86.000000</td>\n",
       "      <td>9.000000</td>\n",
       "      <td>74.000000</td>\n",
       "      <td>343</td>\n",
       "      <td>470</td>\n",
       "      <td>22.25</td>\n",
       "      <td>1.5</td>\n",
       "      <td>FalconSAT-2</td>\n",
       "      <td>Research Satellite</td>\n",
       "      <td>19</td>\n",
       "      <td>Low Earth Orbit</td>\n",
       "      <td>Failure</td>\n",
       "      <td>Engine Fire During Launch</td>\n",
       "      <td>0</td>\n",
       "    </tr>\n",
       "    <tr>\n",
       "      <th>1</th>\n",
       "      <td>5</td>\n",
       "      <td>21 March 2007</td>\n",
       "      <td>1:10</td>\n",
       "      <td>4</td>\n",
       "      <td>70.441176</td>\n",
       "      <td>8.007353</td>\n",
       "      <td>76.066176</td>\n",
       "      <td>343</td>\n",
       "      <td>470</td>\n",
       "      <td>22.25</td>\n",
       "      <td>1.5</td>\n",
       "      <td>DemoSat</td>\n",
       "      <td>Mass simulator</td>\n",
       "      <td>3443</td>\n",
       "      <td>Low Earth Orbit</td>\n",
       "      <td>Failure</td>\n",
       "      <td>Engine Shutdown During Launch</td>\n",
       "      <td>0</td>\n",
       "    </tr>\n",
       "    <tr>\n",
       "      <th>2</th>\n",
       "      <td>5</td>\n",
       "      <td>3 August 2008</td>\n",
       "      <td>3:34</td>\n",
       "      <td>4</td>\n",
       "      <td>70.441176</td>\n",
       "      <td>8.007353</td>\n",
       "      <td>76.066176</td>\n",
       "      <td>343</td>\n",
       "      <td>470</td>\n",
       "      <td>22.25</td>\n",
       "      <td>1.5</td>\n",
       "      <td>Trailblazer</td>\n",
       "      <td>Communication Satellite</td>\n",
       "      <td>3443</td>\n",
       "      <td>Low Earth Orbit</td>\n",
       "      <td>Failure</td>\n",
       "      <td>Collision During Launch</td>\n",
       "      <td>0</td>\n",
       "    </tr>\n",
       "    <tr>\n",
       "      <th>3</th>\n",
       "      <td>5</td>\n",
       "      <td>3 August 2008</td>\n",
       "      <td>3:34</td>\n",
       "      <td>4</td>\n",
       "      <td>70.441176</td>\n",
       "      <td>8.007353</td>\n",
       "      <td>76.066176</td>\n",
       "      <td>343</td>\n",
       "      <td>470</td>\n",
       "      <td>22.25</td>\n",
       "      <td>1.5</td>\n",
       "      <td>PRESat, NanoSail-D</td>\n",
       "      <td>Research Satellites</td>\n",
       "      <td>8</td>\n",
       "      <td>Low Earth Orbit</td>\n",
       "      <td>Failure</td>\n",
       "      <td>Collision During Launch</td>\n",
       "      <td>0</td>\n",
       "    </tr>\n",
       "    <tr>\n",
       "      <th>4</th>\n",
       "      <td>5</td>\n",
       "      <td>3 August 2008</td>\n",
       "      <td>3:34</td>\n",
       "      <td>4</td>\n",
       "      <td>70.441176</td>\n",
       "      <td>8.007353</td>\n",
       "      <td>76.066176</td>\n",
       "      <td>343</td>\n",
       "      <td>470</td>\n",
       "      <td>22.25</td>\n",
       "      <td>1.5</td>\n",
       "      <td>Explorers</td>\n",
       "      <td>Human Remains</td>\n",
       "      <td>3443</td>\n",
       "      <td>Low Earth Orbit</td>\n",
       "      <td>Failure</td>\n",
       "      <td>Collision During Launch</td>\n",
       "      <td>0</td>\n",
       "    </tr>\n",
       "  </tbody>\n",
       "</table>\n",
       "</div>"
      ],
      "text/plain": [
       "   Company    Launch Date Launch Time  Launch Site  Temperature (° F)  \\\n",
       "0        5  24 March 2006       22:30            4          86.000000   \n",
       "1        5  21 March 2007        1:10            4          70.441176   \n",
       "2        5  3 August 2008        3:34            4          70.441176   \n",
       "3        5  3 August 2008        3:34            4          70.441176   \n",
       "4        5  3 August 2008        3:34            4          70.441176   \n",
       "\n",
       "   Wind speed (MPH)  Humidity (%)  Liftoff Thrust (kN)  Payload to Orbit (kg)  \\\n",
       "0          9.000000     74.000000                  343                    470   \n",
       "1          8.007353     76.066176                  343                    470   \n",
       "2          8.007353     76.066176                  343                    470   \n",
       "3          8.007353     76.066176                  343                    470   \n",
       "4          8.007353     76.066176                  343                    470   \n",
       "\n",
       "   Rocket Height (m)  Fairing Diameter (m)        Payload Name  \\\n",
       "0              22.25                   1.5         FalconSAT-2   \n",
       "1              22.25                   1.5             DemoSat   \n",
       "2              22.25                   1.5         Trailblazer   \n",
       "3              22.25                   1.5  PRESat, NanoSail-D   \n",
       "4              22.25                   1.5           Explorers   \n",
       "\n",
       "              Payload Type  Payload Mass (kg)    Payload Orbit Mission Status  \\\n",
       "0       Research Satellite                 19  Low Earth Orbit        Failure   \n",
       "1           Mass simulator               3443  Low Earth Orbit        Failure   \n",
       "2  Communication Satellite               3443  Low Earth Orbit        Failure   \n",
       "3      Research Satellites                  8  Low Earth Orbit        Failure   \n",
       "4            Human Remains               3443  Low Earth Orbit        Failure   \n",
       "\n",
       "                  Failure Reason  vehicle_type  \n",
       "0      Engine Fire During Launch             0  \n",
       "1  Engine Shutdown During Launch             0  \n",
       "2        Collision During Launch             0  \n",
       "3        Collision During Launch             0  \n",
       "4        Collision During Launch             0  "
      ]
     },
     "execution_count": 36,
     "metadata": {},
     "output_type": "execute_result"
    }
   ],
   "source": [
    "# Кодируем vehicle_type\n",
    "titles = {\"Falcon\": 0, \"Delta\": 1, \"Titan\": 2, \"Ariane\": 3, \"Vega\": 4, \"VLS\": 5} \n",
    "data['vehicle_type'] = data.Vehicle_Type.str.extract('([A-Za-z]+)', expand=False) \n",
    "data['vehicle_type'] = data['vehicle_type'].map(titles)  \n",
    "data = data.drop(['Vehicle_Type'], axis=1)\n",
    "data.head()"
   ]
  },
  {
   "cell_type": "code",
   "execution_count": 37,
   "metadata": {},
   "outputs": [],
   "source": [
    "# Удалим причину аварии, т.к. это поле несет просто описательную составляющую\n",
    "data = data.drop(['Failure Reason'], axis = 1)"
   ]
  },
  {
   "cell_type": "code",
   "execution_count": 38,
   "metadata": {},
   "outputs": [],
   "source": [
    "# Payload Name and Type\n",
    "# в этих полях слишком много уникальных значений, которые трудно будет закодировать. Поэтому их тоже дропаем\n",
    "data = data.drop(['Payload Name', 'Payload Type'], axis = 1)"
   ]
  },
  {
   "cell_type": "code",
   "execution_count": 39,
   "metadata": {},
   "outputs": [
    {
     "data": {
      "text/plain": [
       "array(['Low Earth Orbit', 'Geostationary Transfer Orbit',\n",
       "       'Medium Earth Orbit', 'Sun-Synchronous Orbit', 'Polar Orbit',\n",
       "       'High Earth Orbit', 'Sun/Earth Orbit', 'Heliocentric Orbit',\n",
       "       'Suborbital', 'Mars Orbit', 'Earth-Moon L2'], dtype=object)"
      ]
     },
     "execution_count": 39,
     "metadata": {},
     "output_type": "execute_result"
    }
   ],
   "source": [
    "#Payload Orbit\n",
    "data['Payload Orbit'].unique()"
   ]
  },
  {
   "cell_type": "code",
   "execution_count": 40,
   "metadata": {},
   "outputs": [
    {
     "data": {
      "text/plain": [
       "array([ 4,  1,  6,  9,  7,  3, 10,  2,  8,  5,  0])"
      ]
     },
     "execution_count": 40,
     "metadata": {},
     "output_type": "execute_result"
    }
   ],
   "source": [
    "# кодируем Payload Orbit\n",
    "label.fit(data['Payload Orbit'].drop_duplicates())\n",
    "data['Payload Orbit'] = label.transform(data['Payload Orbit'])\n",
    "data['Payload Orbit'].unique()"
   ]
  },
  {
   "cell_type": "code",
   "execution_count": 41,
   "metadata": {},
   "outputs": [],
   "source": [
    "# У  Mission Status может быть всего 2 значения )\n",
    "data.loc[data['Mission Status'] == 'Failure', 'Mission Status'] = 0\n",
    "data.loc[data['Mission Status'] == 'Success', 'Mission Status'] = 1"
   ]
  },
  {
   "cell_type": "code",
   "execution_count": 42,
   "metadata": {},
   "outputs": [
    {
     "data": {
      "text/html": [
       "<div>\n",
       "<style scoped>\n",
       "    .dataframe tbody tr th:only-of-type {\n",
       "        vertical-align: middle;\n",
       "    }\n",
       "\n",
       "    .dataframe tbody tr th {\n",
       "        vertical-align: top;\n",
       "    }\n",
       "\n",
       "    .dataframe thead th {\n",
       "        text-align: right;\n",
       "    }\n",
       "</style>\n",
       "<table border=\"1\" class=\"dataframe\">\n",
       "  <thead>\n",
       "    <tr style=\"text-align: right;\">\n",
       "      <th></th>\n",
       "      <th>Company</th>\n",
       "      <th>Launch Date</th>\n",
       "      <th>Launch Time</th>\n",
       "      <th>Launch Site</th>\n",
       "      <th>Temperature (° F)</th>\n",
       "      <th>Wind speed (MPH)</th>\n",
       "      <th>Humidity (%)</th>\n",
       "      <th>Liftoff Thrust (kN)</th>\n",
       "      <th>Payload to Orbit (kg)</th>\n",
       "      <th>Rocket Height (m)</th>\n",
       "      <th>Fairing Diameter (m)</th>\n",
       "      <th>Payload Mass (kg)</th>\n",
       "      <th>Payload Orbit</th>\n",
       "      <th>Mission Status</th>\n",
       "      <th>vehicle_type</th>\n",
       "    </tr>\n",
       "  </thead>\n",
       "  <tbody>\n",
       "    <tr>\n",
       "      <th>0</th>\n",
       "      <td>5</td>\n",
       "      <td>24 March 2006</td>\n",
       "      <td>22:30</td>\n",
       "      <td>4</td>\n",
       "      <td>86.000000</td>\n",
       "      <td>9.000000</td>\n",
       "      <td>74.000000</td>\n",
       "      <td>343</td>\n",
       "      <td>470</td>\n",
       "      <td>22.25</td>\n",
       "      <td>1.5</td>\n",
       "      <td>19</td>\n",
       "      <td>4</td>\n",
       "      <td>0</td>\n",
       "      <td>0</td>\n",
       "    </tr>\n",
       "    <tr>\n",
       "      <th>1</th>\n",
       "      <td>5</td>\n",
       "      <td>21 March 2007</td>\n",
       "      <td>1:10</td>\n",
       "      <td>4</td>\n",
       "      <td>70.441176</td>\n",
       "      <td>8.007353</td>\n",
       "      <td>76.066176</td>\n",
       "      <td>343</td>\n",
       "      <td>470</td>\n",
       "      <td>22.25</td>\n",
       "      <td>1.5</td>\n",
       "      <td>3443</td>\n",
       "      <td>4</td>\n",
       "      <td>0</td>\n",
       "      <td>0</td>\n",
       "    </tr>\n",
       "    <tr>\n",
       "      <th>2</th>\n",
       "      <td>5</td>\n",
       "      <td>3 August 2008</td>\n",
       "      <td>3:34</td>\n",
       "      <td>4</td>\n",
       "      <td>70.441176</td>\n",
       "      <td>8.007353</td>\n",
       "      <td>76.066176</td>\n",
       "      <td>343</td>\n",
       "      <td>470</td>\n",
       "      <td>22.25</td>\n",
       "      <td>1.5</td>\n",
       "      <td>3443</td>\n",
       "      <td>4</td>\n",
       "      <td>0</td>\n",
       "      <td>0</td>\n",
       "    </tr>\n",
       "    <tr>\n",
       "      <th>3</th>\n",
       "      <td>5</td>\n",
       "      <td>3 August 2008</td>\n",
       "      <td>3:34</td>\n",
       "      <td>4</td>\n",
       "      <td>70.441176</td>\n",
       "      <td>8.007353</td>\n",
       "      <td>76.066176</td>\n",
       "      <td>343</td>\n",
       "      <td>470</td>\n",
       "      <td>22.25</td>\n",
       "      <td>1.5</td>\n",
       "      <td>8</td>\n",
       "      <td>4</td>\n",
       "      <td>0</td>\n",
       "      <td>0</td>\n",
       "    </tr>\n",
       "    <tr>\n",
       "      <th>4</th>\n",
       "      <td>5</td>\n",
       "      <td>3 August 2008</td>\n",
       "      <td>3:34</td>\n",
       "      <td>4</td>\n",
       "      <td>70.441176</td>\n",
       "      <td>8.007353</td>\n",
       "      <td>76.066176</td>\n",
       "      <td>343</td>\n",
       "      <td>470</td>\n",
       "      <td>22.25</td>\n",
       "      <td>1.5</td>\n",
       "      <td>3443</td>\n",
       "      <td>4</td>\n",
       "      <td>0</td>\n",
       "      <td>0</td>\n",
       "    </tr>\n",
       "  </tbody>\n",
       "</table>\n",
       "</div>"
      ],
      "text/plain": [
       "   Company    Launch Date Launch Time  Launch Site  Temperature (° F)  \\\n",
       "0        5  24 March 2006       22:30            4          86.000000   \n",
       "1        5  21 March 2007        1:10            4          70.441176   \n",
       "2        5  3 August 2008        3:34            4          70.441176   \n",
       "3        5  3 August 2008        3:34            4          70.441176   \n",
       "4        5  3 August 2008        3:34            4          70.441176   \n",
       "\n",
       "   Wind speed (MPH)  Humidity (%)  Liftoff Thrust (kN)  Payload to Orbit (kg)  \\\n",
       "0          9.000000     74.000000                  343                    470   \n",
       "1          8.007353     76.066176                  343                    470   \n",
       "2          8.007353     76.066176                  343                    470   \n",
       "3          8.007353     76.066176                  343                    470   \n",
       "4          8.007353     76.066176                  343                    470   \n",
       "\n",
       "   Rocket Height (m)  Fairing Diameter (m)  Payload Mass (kg)  Payload Orbit  \\\n",
       "0              22.25                   1.5                 19              4   \n",
       "1              22.25                   1.5               3443              4   \n",
       "2              22.25                   1.5               3443              4   \n",
       "3              22.25                   1.5                  8              4   \n",
       "4              22.25                   1.5               3443              4   \n",
       "\n",
       "  Mission Status  vehicle_type  \n",
       "0              0             0  \n",
       "1              0             0  \n",
       "2              0             0  \n",
       "3              0             0  \n",
       "4              0             0  "
      ]
     },
     "execution_count": 42,
     "metadata": {},
     "output_type": "execute_result"
    }
   ],
   "source": [
    "# Смотрим на проиежуточный датафрейм\n",
    "data.head()"
   ]
  },
  {
   "cell_type": "markdown",
   "metadata": {},
   "source": [
    "Теперь займемся датами"
   ]
  },
  {
   "cell_type": "code",
   "execution_count": 43,
   "metadata": {},
   "outputs": [
    {
     "data": {
      "text/html": [
       "<div>\n",
       "<style scoped>\n",
       "    .dataframe tbody tr th:only-of-type {\n",
       "        vertical-align: middle;\n",
       "    }\n",
       "\n",
       "    .dataframe tbody tr th {\n",
       "        vertical-align: top;\n",
       "    }\n",
       "\n",
       "    .dataframe thead th {\n",
       "        text-align: right;\n",
       "    }\n",
       "</style>\n",
       "<table border=\"1\" class=\"dataframe\">\n",
       "  <thead>\n",
       "    <tr style=\"text-align: right;\">\n",
       "      <th></th>\n",
       "      <th>Company</th>\n",
       "      <th>Launch Site</th>\n",
       "      <th>Temperature (° F)</th>\n",
       "      <th>Wind speed (MPH)</th>\n",
       "      <th>Humidity (%)</th>\n",
       "      <th>Liftoff Thrust (kN)</th>\n",
       "      <th>Payload to Orbit (kg)</th>\n",
       "      <th>Rocket Height (m)</th>\n",
       "      <th>Fairing Diameter (m)</th>\n",
       "      <th>Payload Mass (kg)</th>\n",
       "      <th>Payload Orbit</th>\n",
       "      <th>Mission Status</th>\n",
       "      <th>vehicle_type</th>\n",
       "      <th>Launch_Time</th>\n",
       "    </tr>\n",
       "  </thead>\n",
       "  <tbody>\n",
       "    <tr>\n",
       "      <th>0</th>\n",
       "      <td>5</td>\n",
       "      <td>4</td>\n",
       "      <td>86.000000</td>\n",
       "      <td>9.000000</td>\n",
       "      <td>74.000000</td>\n",
       "      <td>343</td>\n",
       "      <td>470</td>\n",
       "      <td>22.25</td>\n",
       "      <td>1.5</td>\n",
       "      <td>19</td>\n",
       "      <td>4</td>\n",
       "      <td>0</td>\n",
       "      <td>0</td>\n",
       "      <td>24 March 2006 22:30</td>\n",
       "    </tr>\n",
       "    <tr>\n",
       "      <th>1</th>\n",
       "      <td>5</td>\n",
       "      <td>4</td>\n",
       "      <td>70.441176</td>\n",
       "      <td>8.007353</td>\n",
       "      <td>76.066176</td>\n",
       "      <td>343</td>\n",
       "      <td>470</td>\n",
       "      <td>22.25</td>\n",
       "      <td>1.5</td>\n",
       "      <td>3443</td>\n",
       "      <td>4</td>\n",
       "      <td>0</td>\n",
       "      <td>0</td>\n",
       "      <td>21 March 2007 1:10</td>\n",
       "    </tr>\n",
       "    <tr>\n",
       "      <th>2</th>\n",
       "      <td>5</td>\n",
       "      <td>4</td>\n",
       "      <td>70.441176</td>\n",
       "      <td>8.007353</td>\n",
       "      <td>76.066176</td>\n",
       "      <td>343</td>\n",
       "      <td>470</td>\n",
       "      <td>22.25</td>\n",
       "      <td>1.5</td>\n",
       "      <td>3443</td>\n",
       "      <td>4</td>\n",
       "      <td>0</td>\n",
       "      <td>0</td>\n",
       "      <td>3 August 2008 3:34</td>\n",
       "    </tr>\n",
       "    <tr>\n",
       "      <th>3</th>\n",
       "      <td>5</td>\n",
       "      <td>4</td>\n",
       "      <td>70.441176</td>\n",
       "      <td>8.007353</td>\n",
       "      <td>76.066176</td>\n",
       "      <td>343</td>\n",
       "      <td>470</td>\n",
       "      <td>22.25</td>\n",
       "      <td>1.5</td>\n",
       "      <td>8</td>\n",
       "      <td>4</td>\n",
       "      <td>0</td>\n",
       "      <td>0</td>\n",
       "      <td>3 August 2008 3:34</td>\n",
       "    </tr>\n",
       "    <tr>\n",
       "      <th>4</th>\n",
       "      <td>5</td>\n",
       "      <td>4</td>\n",
       "      <td>70.441176</td>\n",
       "      <td>8.007353</td>\n",
       "      <td>76.066176</td>\n",
       "      <td>343</td>\n",
       "      <td>470</td>\n",
       "      <td>22.25</td>\n",
       "      <td>1.5</td>\n",
       "      <td>3443</td>\n",
       "      <td>4</td>\n",
       "      <td>0</td>\n",
       "      <td>0</td>\n",
       "      <td>3 August 2008 3:34</td>\n",
       "    </tr>\n",
       "  </tbody>\n",
       "</table>\n",
       "</div>"
      ],
      "text/plain": [
       "   Company  Launch Site  Temperature (° F)  Wind speed (MPH)  Humidity (%)  \\\n",
       "0        5            4          86.000000          9.000000     74.000000   \n",
       "1        5            4          70.441176          8.007353     76.066176   \n",
       "2        5            4          70.441176          8.007353     76.066176   \n",
       "3        5            4          70.441176          8.007353     76.066176   \n",
       "4        5            4          70.441176          8.007353     76.066176   \n",
       "\n",
       "   Liftoff Thrust (kN)  Payload to Orbit (kg)  Rocket Height (m)  \\\n",
       "0                  343                    470              22.25   \n",
       "1                  343                    470              22.25   \n",
       "2                  343                    470              22.25   \n",
       "3                  343                    470              22.25   \n",
       "4                  343                    470              22.25   \n",
       "\n",
       "   Fairing Diameter (m)  Payload Mass (kg)  Payload Orbit Mission Status  \\\n",
       "0                   1.5                 19              4              0   \n",
       "1                   1.5               3443              4              0   \n",
       "2                   1.5               3443              4              0   \n",
       "3                   1.5                  8              4              0   \n",
       "4                   1.5               3443              4              0   \n",
       "\n",
       "   vehicle_type          Launch_Time  \n",
       "0             0  24 March 2006 22:30  \n",
       "1             0   21 March 2007 1:10  \n",
       "2             0   3 August 2008 3:34  \n",
       "3             0   3 August 2008 3:34  \n",
       "4             0   3 August 2008 3:34  "
      ]
     },
     "execution_count": 43,
     "metadata": {},
     "output_type": "execute_result"
    }
   ],
   "source": [
    "# Объеденим время и дату запуска в единое поле, предварительно переведя их в строковый тип\n",
    "data['Launch Date'] = data['Launch Date'].astype(str)\n",
    "data['Launch Time'] = data['Launch Time'].astype(str)\n",
    "data['Launch_Time'] = data['Launch Date'].str.cat(data['Launch Time'],sep=\" \")\n",
    "data = data.drop(['Launch Time', 'Launch Date'], axis = 1)\n",
    "data.head()"
   ]
  },
  {
   "cell_type": "code",
   "execution_count": 44,
   "metadata": {},
   "outputs": [],
   "source": [
    "# Конвертируем новый столбец в объект datetime\n",
    "from datetime import datetime\n",
    "data['Launch_Time'] = data['Launch_Time'].map(lambda x: datetime.strptime(x, '%d %B %Y %H:%M'))"
   ]
  },
  {
   "cell_type": "code",
   "execution_count": 45,
   "metadata": {},
   "outputs": [],
   "source": [
    "data['Mission Status'] = pd.to_numeric(data['Mission Status'])"
   ]
  },
  {
   "cell_type": "markdown",
   "metadata": {},
   "source": [
    "Итоговый датафрейм"
   ]
  },
  {
   "cell_type": "code",
   "execution_count": 46,
   "metadata": {},
   "outputs": [
    {
     "data": {
      "text/html": [
       "<div>\n",
       "<style scoped>\n",
       "    .dataframe tbody tr th:only-of-type {\n",
       "        vertical-align: middle;\n",
       "    }\n",
       "\n",
       "    .dataframe tbody tr th {\n",
       "        vertical-align: top;\n",
       "    }\n",
       "\n",
       "    .dataframe thead th {\n",
       "        text-align: right;\n",
       "    }\n",
       "</style>\n",
       "<table border=\"1\" class=\"dataframe\">\n",
       "  <thead>\n",
       "    <tr style=\"text-align: right;\">\n",
       "      <th></th>\n",
       "      <th>Company</th>\n",
       "      <th>Launch Site</th>\n",
       "      <th>Temperature (° F)</th>\n",
       "      <th>Wind speed (MPH)</th>\n",
       "      <th>Humidity (%)</th>\n",
       "      <th>Liftoff Thrust (kN)</th>\n",
       "      <th>Payload to Orbit (kg)</th>\n",
       "      <th>Rocket Height (m)</th>\n",
       "      <th>Fairing Diameter (m)</th>\n",
       "      <th>Payload Mass (kg)</th>\n",
       "      <th>Payload Orbit</th>\n",
       "      <th>Mission Status</th>\n",
       "      <th>vehicle_type</th>\n",
       "      <th>Launch_Time</th>\n",
       "    </tr>\n",
       "  </thead>\n",
       "  <tbody>\n",
       "    <tr>\n",
       "      <th>0</th>\n",
       "      <td>5</td>\n",
       "      <td>4</td>\n",
       "      <td>86.000000</td>\n",
       "      <td>9.000000</td>\n",
       "      <td>74.000000</td>\n",
       "      <td>343</td>\n",
       "      <td>470</td>\n",
       "      <td>22.25</td>\n",
       "      <td>1.5</td>\n",
       "      <td>19</td>\n",
       "      <td>4</td>\n",
       "      <td>0</td>\n",
       "      <td>0</td>\n",
       "      <td>2006-03-24 22:30:00</td>\n",
       "    </tr>\n",
       "    <tr>\n",
       "      <th>1</th>\n",
       "      <td>5</td>\n",
       "      <td>4</td>\n",
       "      <td>70.441176</td>\n",
       "      <td>8.007353</td>\n",
       "      <td>76.066176</td>\n",
       "      <td>343</td>\n",
       "      <td>470</td>\n",
       "      <td>22.25</td>\n",
       "      <td>1.5</td>\n",
       "      <td>3443</td>\n",
       "      <td>4</td>\n",
       "      <td>0</td>\n",
       "      <td>0</td>\n",
       "      <td>2007-03-21 01:10:00</td>\n",
       "    </tr>\n",
       "    <tr>\n",
       "      <th>2</th>\n",
       "      <td>5</td>\n",
       "      <td>4</td>\n",
       "      <td>70.441176</td>\n",
       "      <td>8.007353</td>\n",
       "      <td>76.066176</td>\n",
       "      <td>343</td>\n",
       "      <td>470</td>\n",
       "      <td>22.25</td>\n",
       "      <td>1.5</td>\n",
       "      <td>3443</td>\n",
       "      <td>4</td>\n",
       "      <td>0</td>\n",
       "      <td>0</td>\n",
       "      <td>2008-08-03 03:34:00</td>\n",
       "    </tr>\n",
       "    <tr>\n",
       "      <th>3</th>\n",
       "      <td>5</td>\n",
       "      <td>4</td>\n",
       "      <td>70.441176</td>\n",
       "      <td>8.007353</td>\n",
       "      <td>76.066176</td>\n",
       "      <td>343</td>\n",
       "      <td>470</td>\n",
       "      <td>22.25</td>\n",
       "      <td>1.5</td>\n",
       "      <td>8</td>\n",
       "      <td>4</td>\n",
       "      <td>0</td>\n",
       "      <td>0</td>\n",
       "      <td>2008-08-03 03:34:00</td>\n",
       "    </tr>\n",
       "    <tr>\n",
       "      <th>4</th>\n",
       "      <td>5</td>\n",
       "      <td>4</td>\n",
       "      <td>70.441176</td>\n",
       "      <td>8.007353</td>\n",
       "      <td>76.066176</td>\n",
       "      <td>343</td>\n",
       "      <td>470</td>\n",
       "      <td>22.25</td>\n",
       "      <td>1.5</td>\n",
       "      <td>3443</td>\n",
       "      <td>4</td>\n",
       "      <td>0</td>\n",
       "      <td>0</td>\n",
       "      <td>2008-08-03 03:34:00</td>\n",
       "    </tr>\n",
       "  </tbody>\n",
       "</table>\n",
       "</div>"
      ],
      "text/plain": [
       "   Company  Launch Site  Temperature (° F)  Wind speed (MPH)  Humidity (%)  \\\n",
       "0        5            4          86.000000          9.000000     74.000000   \n",
       "1        5            4          70.441176          8.007353     76.066176   \n",
       "2        5            4          70.441176          8.007353     76.066176   \n",
       "3        5            4          70.441176          8.007353     76.066176   \n",
       "4        5            4          70.441176          8.007353     76.066176   \n",
       "\n",
       "   Liftoff Thrust (kN)  Payload to Orbit (kg)  Rocket Height (m)  \\\n",
       "0                  343                    470              22.25   \n",
       "1                  343                    470              22.25   \n",
       "2                  343                    470              22.25   \n",
       "3                  343                    470              22.25   \n",
       "4                  343                    470              22.25   \n",
       "\n",
       "   Fairing Diameter (m)  Payload Mass (kg)  Payload Orbit  Mission Status  \\\n",
       "0                   1.5                 19              4               0   \n",
       "1                   1.5               3443              4               0   \n",
       "2                   1.5               3443              4               0   \n",
       "3                   1.5                  8              4               0   \n",
       "4                   1.5               3443              4               0   \n",
       "\n",
       "   vehicle_type         Launch_Time  \n",
       "0             0 2006-03-24 22:30:00  \n",
       "1             0 2007-03-21 01:10:00  \n",
       "2             0 2008-08-03 03:34:00  \n",
       "3             0 2008-08-03 03:34:00  \n",
       "4             0 2008-08-03 03:34:00  "
      ]
     },
     "execution_count": 46,
     "metadata": {},
     "output_type": "execute_result"
    }
   ],
   "source": [
    "data.head()"
   ]
  },
  {
   "cell_type": "code",
   "execution_count": 47,
   "metadata": {},
   "outputs": [
    {
     "name": "stdout",
     "output_type": "stream",
     "text": [
      "<class 'pandas.core.frame.DataFrame'>\n",
      "RangeIndex: 150 entries, 0 to 149\n",
      "Data columns (total 14 columns):\n",
      " #   Column                 Non-Null Count  Dtype         \n",
      "---  ------                 --------------  -----         \n",
      " 0   Company                150 non-null    int32         \n",
      " 1   Launch Site            150 non-null    int32         \n",
      " 2   Temperature (° F)      150 non-null    float64       \n",
      " 3   Wind speed (MPH)       150 non-null    float64       \n",
      " 4   Humidity (%)           150 non-null    float64       \n",
      " 5   Liftoff Thrust (kN)    150 non-null    int64         \n",
      " 6   Payload to Orbit (kg)  150 non-null    int64         \n",
      " 7   Rocket Height (m)      150 non-null    float64       \n",
      " 8   Fairing Diameter (m)   150 non-null    float64       \n",
      " 9   Payload Mass (kg)      150 non-null    int32         \n",
      " 10  Payload Orbit          150 non-null    int32         \n",
      " 11  Mission Status         150 non-null    int64         \n",
      " 12  vehicle_type           150 non-null    int64         \n",
      " 13  Launch_Time            150 non-null    datetime64[ns]\n",
      "dtypes: datetime64[ns](1), float64(5), int32(4), int64(4)\n",
      "memory usage: 14.2 KB\n"
     ]
    }
   ],
   "source": [
    "data.info()"
   ]
  },
  {
   "cell_type": "markdown",
   "metadata": {},
   "source": [
    "Выше видим, что в третьем столбце все значения 150, что равно размеру датасета. Это значит, что у нас нет\n",
    "пустых (NaN) значений"
   ]
  },
  {
   "cell_type": "markdown",
   "metadata": {},
   "source": [
    "### Часть 2. Запускаем ML!"
   ]
  },
  {
   "cell_type": "code",
   "execution_count": 48,
   "metadata": {},
   "outputs": [
    {
     "data": {
      "text/html": [
       "<div>\n",
       "<style scoped>\n",
       "    .dataframe tbody tr th:only-of-type {\n",
       "        vertical-align: middle;\n",
       "    }\n",
       "\n",
       "    .dataframe tbody tr th {\n",
       "        vertical-align: top;\n",
       "    }\n",
       "\n",
       "    .dataframe thead th {\n",
       "        text-align: right;\n",
       "    }\n",
       "</style>\n",
       "<table border=\"1\" class=\"dataframe\">\n",
       "  <thead>\n",
       "    <tr style=\"text-align: right;\">\n",
       "      <th></th>\n",
       "      <th>Company</th>\n",
       "      <th>Launch Site</th>\n",
       "      <th>Temperature (° F)</th>\n",
       "      <th>Wind speed (MPH)</th>\n",
       "      <th>Humidity (%)</th>\n",
       "      <th>Liftoff Thrust (kN)</th>\n",
       "      <th>Payload to Orbit (kg)</th>\n",
       "      <th>Rocket Height (m)</th>\n",
       "      <th>Fairing Diameter (m)</th>\n",
       "      <th>Payload Mass (kg)</th>\n",
       "      <th>Payload Orbit</th>\n",
       "      <th>Mission Status</th>\n",
       "      <th>vehicle_type</th>\n",
       "      <th>Launch_Time</th>\n",
       "    </tr>\n",
       "  </thead>\n",
       "  <tbody>\n",
       "    <tr>\n",
       "      <th>138</th>\n",
       "      <td>1</td>\n",
       "      <td>2</td>\n",
       "      <td>68.0</td>\n",
       "      <td>15.0</td>\n",
       "      <td>83.0</td>\n",
       "      <td>3511</td>\n",
       "      <td>1819</td>\n",
       "      <td>38.1</td>\n",
       "      <td>2.9</td>\n",
       "      <td>2032</td>\n",
       "      <td>6</td>\n",
       "      <td>1</td>\n",
       "      <td>1</td>\n",
       "      <td>2001-01-30 07:55:00</td>\n",
       "    </tr>\n",
       "  </tbody>\n",
       "</table>\n",
       "</div>"
      ],
      "text/plain": [
       "     Company  Launch Site  Temperature (° F)  Wind speed (MPH)  Humidity (%)  \\\n",
       "138        1            2               68.0              15.0          83.0   \n",
       "\n",
       "     Liftoff Thrust (kN)  Payload to Orbit (kg)  Rocket Height (m)  \\\n",
       "138                 3511                   1819               38.1   \n",
       "\n",
       "     Fairing Diameter (m)  Payload Mass (kg)  Payload Orbit  Mission Status  \\\n",
       "138                   2.9               2032              6               1   \n",
       "\n",
       "     vehicle_type         Launch_Time  \n",
       "138             1 2001-01-30 07:55:00  "
      ]
     },
     "execution_count": 48,
     "metadata": {},
     "output_type": "execute_result"
    }
   ],
   "source": [
    "#Смотрим на колонки нашего датафрейма\n",
    "data.sample()"
   ]
  },
  {
   "cell_type": "code",
   "execution_count": 49,
   "metadata": {},
   "outputs": [],
   "source": [
    "# убраем зависимую переменную (Mission Status) из train и переводим ее в target\n",
    "train = data.iloc[:, [0,1,2,3,4,5,6,7,8,9,10,12]]\n",
    "target = data.iloc[:, -3].values"
   ]
  },
  {
   "cell_type": "code",
   "execution_count": 50,
   "metadata": {},
   "outputs": [],
   "source": [
    "# Импортируем библиотеки для ML\n",
    "from sklearn.model_selection import train_test_split\n",
    "from sklearn.preprocessing import StandardScaler\n",
    "from sklearn.neighbors import KNeighborsClassifier\n",
    "from sklearn.ensemble import RandomForestClassifier\n",
    "from sklearn.linear_model import LogisticRegression\n",
    "from sklearn.linear_model import LinearRegression\n",
    "from sklearn.naive_bayes import GaussianNB\n",
    "from sklearn import metrics\n",
    "import statsmodels.api as sm"
   ]
  },
  {
   "cell_type": "code",
   "execution_count": 75,
   "metadata": {},
   "outputs": [],
   "source": [
    "# Делаем разбивку на обучающий и контрольные наборы\n",
    "x_train, x_test, y_train, y_test = train_test_split(train,target, test_size = 0.2, random_state = 0)"
   ]
  },
  {
   "cell_type": "code",
   "execution_count": 52,
   "metadata": {},
   "outputs": [],
   "source": [
    "# Сделаем разбивку еще раз на основе начального датасета (для сравнения результатов модели)\n",
    "# нам нужен будет только full_test\n",
    "full_train, full_test = train_test_split(data, test_size = 0.2, random_state = 0)"
   ]
  },
  {
   "cell_type": "code",
   "execution_count": 53,
   "metadata": {},
   "outputs": [],
   "source": [
    "# Нормализуем наши выборки, чтобы они подошли под scikit (mean = 0 и std = 1)\n",
    "sc = StandardScaler()\n",
    "x_train = sc.fit_transform(x_train)\n",
    "x_test = sc.transform(x_test) "
   ]
  },
  {
   "cell_type": "markdown",
   "metadata": {},
   "source": [
    "Пишем функции для разных моделей ML и сразу их проверяем"
   ]
  },
  {
   "cell_type": "code",
   "execution_count": 64,
   "metadata": {},
   "outputs": [],
   "source": [
    "# Функция для Logistic Regression\n",
    "def LogReg(x_train, y_train, x_test, y_test):\n",
    "    regressor =  LogisticRegression(random_state=0, solver='lbfgs')\n",
    "    regressor.fit(x_train, y_train)\n",
    "    y_pred = regressor.predict(x_test)\n",
    "    cm = metrics.confusion_matrix(y_test, y_pred)\n",
    "    print('Показатели Ligistic Regresion:')\n",
    "    print('R-квадрат:', metrics.r2_score(y_test, y_pred))\n",
    "    print('Матрица ошибок:\\n', cm)\n",
    "    print('Точность модели: ', metrics.accuracy_score(y_pred, y_test))\n",
    "    return y_pred"
   ]
  },
  {
   "cell_type": "code",
   "execution_count": 72,
   "metadata": {},
   "outputs": [
    {
     "name": "stdout",
     "output_type": "stream",
     "text": [
      "Показатели Ligistic Regresion:\n",
      "R-квадрат: 0.5833333333333334\n",
      "Матрица ошибок:\n",
      " [[ 4  2]\n",
      " [ 0 24]]\n",
      "Точность модели:  0.9333333333333333\n"
     ]
    },
    {
     "data": {
      "text/plain": [
       "array([1, 1, 1, 1, 1, 1, 1, 1, 1, 1, 1, 1, 1, 1, 1, 1, 1, 1, 1, 0, 1, 1,\n",
       "       0, 1, 1, 0, 1, 1, 1, 0], dtype=int64)"
      ]
     },
     "execution_count": 72,
     "metadata": {},
     "output_type": "execute_result"
    }
   ],
   "source": [
    "result = LogReg(x_train,y_train,x_test, y_test)\n",
    "result"
   ]
  },
  {
   "cell_type": "code",
   "execution_count": 66,
   "metadata": {},
   "outputs": [],
   "source": [
    "# Функция для Random Forest Classifier\n",
    "def RndFst(x_train,y_train,x_test,y_test):\n",
    "    classifier = RandomForestClassifier(n_estimators=100)\n",
    "    classifier.fit(x_train, y_train)\n",
    "    y_pred = classifier.predict(x_test)\n",
    "    cm = metrics.confusion_matrix(y_test, y_pred)\n",
    "    print('Показатели Random Forest Classifier:')\n",
    "    print('R-квадрат:', metrics.r2_score(y_test, y_pred))\n",
    "    print('Матрица ошибок:\\n', cm)\n",
    "    print('Точность модели: ', metrics.accuracy_score(y_pred, y_test))\n",
    "    return y_pred"
   ]
  },
  {
   "cell_type": "code",
   "execution_count": 67,
   "metadata": {},
   "outputs": [
    {
     "name": "stdout",
     "output_type": "stream",
     "text": [
      "Показатели Random Forest Classifier:\n",
      "R-квадрат: 0.5833333333333334\n",
      "Матрица ошибок:\n",
      " [[ 4  2]\n",
      " [ 0 24]]\n",
      "Точность модели:  0.9333333333333333\n"
     ]
    },
    {
     "data": {
      "text/plain": [
       "array([1, 1, 1, 1, 1, 1, 1, 1, 1, 1, 1, 1, 1, 1, 1, 1, 1, 1, 1, 0, 1, 1,\n",
       "       0, 1, 1, 0, 1, 1, 1, 0], dtype=int64)"
      ]
     },
     "execution_count": 67,
     "metadata": {},
     "output_type": "execute_result"
    }
   ],
   "source": [
    "result = RndFst(x_train,y_train,x_test,y_test)\n",
    "result"
   ]
  },
  {
   "cell_type": "code",
   "execution_count": 68,
   "metadata": {},
   "outputs": [],
   "source": [
    "# Функция для k-NN\n",
    "def KNghb(x_train,y_train,x_test,y_test):\n",
    "    classifier = KNeighborsClassifier(n_neighbors=5, metric='minkowski', p=2) #че за минковски?\n",
    "    classifier.fit(x_train, y_train)\n",
    "    y_pred = classifier.predict(x_test)\n",
    "    cm = metrics.confusion_matrix(y_test, y_pred)\n",
    "    print('Показатели KNeighbors Classifier:')\n",
    "    print('R-квадрат:', metrics.r2_score(y_test, y_pred))\n",
    "    print('Матрица ошибок:\\n', cm)\n",
    "    print('Точность модели: ', metrics.accuracy_score(y_pred, y_test))\n",
    "    return y_pred"
   ]
  },
  {
   "cell_type": "code",
   "execution_count": 69,
   "metadata": {},
   "outputs": [
    {
     "name": "stdout",
     "output_type": "stream",
     "text": [
      "Показатели KNeighbors Classifier:\n",
      "R-квадрат: 0.5833333333333334\n",
      "Матрица ошибок:\n",
      " [[ 4  2]\n",
      " [ 0 24]]\n",
      "Точность модели:  0.9333333333333333\n"
     ]
    },
    {
     "data": {
      "text/plain": [
       "array([1, 1, 1, 1, 1, 1, 1, 1, 1, 1, 1, 1, 1, 1, 1, 1, 1, 1, 1, 0, 1, 1,\n",
       "       0, 1, 1, 0, 1, 1, 1, 0], dtype=int64)"
      ]
     },
     "execution_count": 69,
     "metadata": {},
     "output_type": "execute_result"
    }
   ],
   "source": [
    "result = KNghb(x_train,y_train,x_test,y_test)\n",
    "result"
   ]
  },
  {
   "cell_type": "code",
   "execution_count": 70,
   "metadata": {},
   "outputs": [],
   "source": [
    "# Функция для Naive Bayes Algorithm\n",
    "def NBA(x_train,y_train,x_test,y_test):\n",
    "    classifier = GaussianNB()\n",
    "    classifier.fit(x_train, y_train)\n",
    "    y_pred = classifier.predict(x_test)\n",
    "    cm = metrics.confusion_matrix(y_test, y_pred)\n",
    "    print('Показатели Naive Bayes Algorithm:')\n",
    "    print('R-квадрат:', metrics.r2_score(y_test, y_pred))\n",
    "    print('Матрица ошибок:\\n', cm)\n",
    "    print('Точность модели: ', metrics.accuracy_score(y_pred, y_test))\n",
    "    return y_pred"
   ]
  },
  {
   "cell_type": "code",
   "execution_count": 71,
   "metadata": {},
   "outputs": [
    {
     "name": "stdout",
     "output_type": "stream",
     "text": [
      "Показатели Naive Bayes Algorithm:\n",
      "R-квадрат: 0.16666666666666674\n",
      "Матрица ошибок:\n",
      " [[ 5  1]\n",
      " [ 3 21]]\n",
      "Точность модели:  0.8666666666666667\n"
     ]
    },
    {
     "data": {
      "text/plain": [
       "array([1, 1, 1, 1, 1, 1, 1, 1, 1, 1, 0, 1, 1, 1, 1, 1, 1, 1, 1, 0, 0, 1,\n",
       "       0, 0, 0, 0, 1, 1, 1, 0], dtype=int64)"
      ]
     },
     "execution_count": 71,
     "metadata": {},
     "output_type": "execute_result"
    }
   ],
   "source": [
    "result = NBA(x_train,y_train,x_test,y_test)\n",
    "result"
   ]
  },
  {
   "cell_type": "markdown",
   "metadata": {},
   "source": [
    "Первые три модели показали одинаковую точность. Остановимся на логистической регресии и возьмем\n",
    "ее результат для сравнения с контрольной выборкой"
   ]
  },
  {
   "cell_type": "markdown",
   "metadata": {},
   "source": [
    "### Часть 3. Сравниваем факт и предсказание"
   ]
  },
  {
   "cell_type": "code",
   "execution_count": 76,
   "metadata": {},
   "outputs": [],
   "source": [
    "#Сохраняем индексы контрольного датафрейма, чтобы потом сделать по ним мердж\n",
    "saved_indecies = pd.DataFrame(x_test.index)\n",
    "#объеденяем сохраненные индексы и предсказанный результат\n",
    "saved_indecies.insert(1,'Predicted', result)\n",
    "saved_indecies.reset_index(inplace=True)\n",
    "saved_indecies.set_index([0], inplace=True)\n",
    "saved_indecies = saved_indecies.drop(['index'], axis=1)\n",
    "#вставили предсказанный результат в контрольный датафрейм.\n",
    "df=pd.merge(full_test, saved_indecies, how='left', left_index=True, right_index=True)"
   ]
  },
  {
   "cell_type": "code",
   "execution_count": 77,
   "metadata": {},
   "outputs": [],
   "source": [
    "# Раскодируем обратно Mission Status и Predicted\n",
    "df.loc[df['Mission Status'] == 0, 'Mission Status'] = 'Failure'\n",
    "df.loc[df['Mission Status'] == 1, 'Mission Status'] = 'Success'\n",
    "df.loc[df['Predicted'] == 0, 'Predicted'] = 'Failure'\n",
    "df.loc[df['Predicted'] == 1, 'Predicted'] = 'Success'"
   ]
  },
  {
   "cell_type": "code",
   "execution_count": 78,
   "metadata": {},
   "outputs": [
    {
     "data": {
      "text/html": [
       "<div>\n",
       "<style scoped>\n",
       "    .dataframe tbody tr th:only-of-type {\n",
       "        vertical-align: middle;\n",
       "    }\n",
       "\n",
       "    .dataframe tbody tr th {\n",
       "        vertical-align: top;\n",
       "    }\n",
       "\n",
       "    .dataframe thead th {\n",
       "        text-align: right;\n",
       "    }\n",
       "</style>\n",
       "<table border=\"1\" class=\"dataframe\">\n",
       "  <thead>\n",
       "    <tr style=\"text-align: right;\">\n",
       "      <th></th>\n",
       "      <th>Mission Status</th>\n",
       "      <th>Predicted</th>\n",
       "    </tr>\n",
       "  </thead>\n",
       "  <tbody>\n",
       "    <tr>\n",
       "      <th>114</th>\n",
       "      <td>Success</td>\n",
       "      <td>Success</td>\n",
       "    </tr>\n",
       "    <tr>\n",
       "      <th>62</th>\n",
       "      <td>Success</td>\n",
       "      <td>Success</td>\n",
       "    </tr>\n",
       "    <tr>\n",
       "      <th>33</th>\n",
       "      <td>Success</td>\n",
       "      <td>Success</td>\n",
       "    </tr>\n",
       "    <tr>\n",
       "      <th>107</th>\n",
       "      <td>Success</td>\n",
       "      <td>Success</td>\n",
       "    </tr>\n",
       "    <tr>\n",
       "      <th>7</th>\n",
       "      <td>Failure</td>\n",
       "      <td>Success</td>\n",
       "    </tr>\n",
       "    <tr>\n",
       "      <th>100</th>\n",
       "      <td>Success</td>\n",
       "      <td>Success</td>\n",
       "    </tr>\n",
       "    <tr>\n",
       "      <th>40</th>\n",
       "      <td>Success</td>\n",
       "      <td>Success</td>\n",
       "    </tr>\n",
       "    <tr>\n",
       "      <th>86</th>\n",
       "      <td>Success</td>\n",
       "      <td>Success</td>\n",
       "    </tr>\n",
       "    <tr>\n",
       "      <th>76</th>\n",
       "      <td>Success</td>\n",
       "      <td>Success</td>\n",
       "    </tr>\n",
       "    <tr>\n",
       "      <th>71</th>\n",
       "      <td>Success</td>\n",
       "      <td>Success</td>\n",
       "    </tr>\n",
       "    <tr>\n",
       "      <th>134</th>\n",
       "      <td>Success</td>\n",
       "      <td>Success</td>\n",
       "    </tr>\n",
       "    <tr>\n",
       "      <th>51</th>\n",
       "      <td>Success</td>\n",
       "      <td>Success</td>\n",
       "    </tr>\n",
       "    <tr>\n",
       "      <th>73</th>\n",
       "      <td>Success</td>\n",
       "      <td>Success</td>\n",
       "    </tr>\n",
       "    <tr>\n",
       "      <th>54</th>\n",
       "      <td>Success</td>\n",
       "      <td>Success</td>\n",
       "    </tr>\n",
       "    <tr>\n",
       "      <th>63</th>\n",
       "      <td>Success</td>\n",
       "      <td>Success</td>\n",
       "    </tr>\n",
       "    <tr>\n",
       "      <th>37</th>\n",
       "      <td>Success</td>\n",
       "      <td>Success</td>\n",
       "    </tr>\n",
       "    <tr>\n",
       "      <th>78</th>\n",
       "      <td>Success</td>\n",
       "      <td>Success</td>\n",
       "    </tr>\n",
       "    <tr>\n",
       "      <th>90</th>\n",
       "      <td>Success</td>\n",
       "      <td>Success</td>\n",
       "    </tr>\n",
       "    <tr>\n",
       "      <th>45</th>\n",
       "      <td>Success</td>\n",
       "      <td>Success</td>\n",
       "    </tr>\n",
       "    <tr>\n",
       "      <th>16</th>\n",
       "      <td>Failure</td>\n",
       "      <td>Failure</td>\n",
       "    </tr>\n",
       "    <tr>\n",
       "      <th>121</th>\n",
       "      <td>Success</td>\n",
       "      <td>Success</td>\n",
       "    </tr>\n",
       "    <tr>\n",
       "      <th>66</th>\n",
       "      <td>Success</td>\n",
       "      <td>Success</td>\n",
       "    </tr>\n",
       "    <tr>\n",
       "      <th>24</th>\n",
       "      <td>Failure</td>\n",
       "      <td>Failure</td>\n",
       "    </tr>\n",
       "    <tr>\n",
       "      <th>8</th>\n",
       "      <td>Failure</td>\n",
       "      <td>Success</td>\n",
       "    </tr>\n",
       "    <tr>\n",
       "      <th>126</th>\n",
       "      <td>Success</td>\n",
       "      <td>Success</td>\n",
       "    </tr>\n",
       "    <tr>\n",
       "      <th>22</th>\n",
       "      <td>Failure</td>\n",
       "      <td>Failure</td>\n",
       "    </tr>\n",
       "    <tr>\n",
       "      <th>44</th>\n",
       "      <td>Success</td>\n",
       "      <td>Success</td>\n",
       "    </tr>\n",
       "    <tr>\n",
       "      <th>97</th>\n",
       "      <td>Success</td>\n",
       "      <td>Success</td>\n",
       "    </tr>\n",
       "    <tr>\n",
       "      <th>93</th>\n",
       "      <td>Success</td>\n",
       "      <td>Success</td>\n",
       "    </tr>\n",
       "    <tr>\n",
       "      <th>26</th>\n",
       "      <td>Failure</td>\n",
       "      <td>Failure</td>\n",
       "    </tr>\n",
       "  </tbody>\n",
       "</table>\n",
       "</div>"
      ],
      "text/plain": [
       "    Mission Status Predicted\n",
       "114        Success   Success\n",
       "62         Success   Success\n",
       "33         Success   Success\n",
       "107        Success   Success\n",
       "7          Failure   Success\n",
       "100        Success   Success\n",
       "40         Success   Success\n",
       "86         Success   Success\n",
       "76         Success   Success\n",
       "71         Success   Success\n",
       "134        Success   Success\n",
       "51         Success   Success\n",
       "73         Success   Success\n",
       "54         Success   Success\n",
       "63         Success   Success\n",
       "37         Success   Success\n",
       "78         Success   Success\n",
       "90         Success   Success\n",
       "45         Success   Success\n",
       "16         Failure   Failure\n",
       "121        Success   Success\n",
       "66         Success   Success\n",
       "24         Failure   Failure\n",
       "8          Failure   Success\n",
       "126        Success   Success\n",
       "22         Failure   Failure\n",
       "44         Success   Success\n",
       "97         Success   Success\n",
       "93         Success   Success\n",
       "26         Failure   Failure"
      ]
     },
     "execution_count": 78,
     "metadata": {},
     "output_type": "execute_result"
    }
   ],
   "source": [
    "# Имеем 2 ошибки - в 7 и 8 индексе.\n",
    "df[['Mission Status', 'Predicted']]"
   ]
  },
  {
   "cell_type": "code",
   "execution_count": null,
   "metadata": {},
   "outputs": [],
   "source": []
  }
 ],
 "metadata": {
  "kernelspec": {
   "display_name": "Python 3",
   "language": "python",
   "name": "python3"
  },
  "language_info": {
   "codemirror_mode": {
    "name": "ipython",
    "version": 3
   },
   "file_extension": ".py",
   "mimetype": "text/x-python",
   "name": "python",
   "nbconvert_exporter": "python",
   "pygments_lexer": "ipython3",
   "version": "3.8.5"
  }
 },
 "nbformat": 4,
 "nbformat_minor": 4
}
