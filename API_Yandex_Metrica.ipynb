{
 "cells": [
  {
   "cell_type": "markdown",
   "metadata": {},
   "source": [
    "## Подключаемся к счетчику Яндекс Метрики через API"
   ]
  },
  {
   "cell_type": "code",
   "execution_count": 19,
   "metadata": {},
   "outputs": [
    {
     "name": "stdout",
     "output_type": "stream",
     "text": [
      "total Project ['16.0', ' 15.0', ' 1.0625', ' 37.5', ' 122.125', ' 31.25', ' 93.75']\n"
     ]
    },
    {
     "ename": "SystemExit",
     "evalue": "0",
     "output_type": "error",
     "traceback": [
      "An exception has occurred, use %tb to see the full traceback.\n",
      "\u001b[1;31mSystemExit\u001b[0m\u001b[1;31m:\u001b[0m 0\n"
     ]
    },
    {
     "name": "stderr",
     "output_type": "stream",
     "text": [
      "D:\\Vladimir\\Python\\Anaconda-3\\lib\\site-packages\\IPython\\core\\interactiveshell.py:2918: UserWarning: To exit: use 'exit', 'quit', or Ctrl-D.\n",
      "  warn(\"To exit: use 'exit', 'quit', or Ctrl-D.\", stacklevel=1)\n"
     ]
    }
   ],
   "source": [
    "import requests\n",
    "import xlsxwriter# библиоткеа для записи данных xls\n",
    "import sys# системная библиотека\n",
    "import json\n",
    "\n",
    "header = {'Authorization': 'OAuth Paste-here-your-oath-token'} # Не забудь вставть свой Oath-token\n",
    "ids = {\n",
    "    'Project': 56447311, #в этот словарик заносятся id-шники  Метрики\n",
    "      }\n",
    "\n",
    "# Формируем структуру XLS страницы\n",
    "\n",
    "workbook = xlsxwriter.Workbook('example.xlsx')\n",
    "worksheet = workbook.add_worksheet()\n",
    "bold = workbook.add_format({'bold': True})\n",
    "worksheet.write(0, 0, '  ', bold)\n",
    "worksheet.write(0, 1, 'Counter', bold)#здесь задаются подписи столбцов в листе\n",
    "worksheet.write(0, 2, 'visits', bold)#здесь задаются подписи столбцов в листе\n",
    "worksheet.write(0, 3, 'users', bold)#здесь задаются подписи столбцов в листе\n",
    "worksheet.write(0, 4, 'stolb4', bold)#здесь задаются подписи столбцов в листе\n",
    "worksheet.write(0, 5, 'stolb5', bold)#здесь задаются подписи столбцов в листе\n",
    "\n",
    "\n",
    "#Формирует выгрузку\n",
    "payload = {\n",
    "     #указываем параметры, какие хотим получить из метрики\n",
    "    'metrics': 'ym:s:visits, ym:s:users, ym:s:pageDepth, ym:s:bounceRate, ym:s:avgVisitDurationSeconds, ym:s:mobilePercentage, ym:s:newUserVisitsPercentage',\n",
    "    'filters': \"ym:s:trafficSource=='direct'\",#из каких каналов трафика хотим получить\n",
    "    'date1': '2019-12-01',\n",
    "    'date2': '2019-12-31',\n",
    "    'ids': 56447311,# id счетчика. Он уже не работает )\n",
    "    'accuracy': 'full', #точность данных\n",
    "    'pretty': True,\n",
    "            }\n",
    "\n",
    "#то так написан цикл for. счетчик цикла выведен перед for\n",
    "i = 1\n",
    "for key, value in ids.items():\n",
    "    payload['ids'] = value\n",
    "    r = requests.get('https://api-metrika.yandex.net/stat/v1/data', params=payload, headers=header)\n",
    "    worksheet.write(i, 0, key)\n",
    "    worksheet.write(i, 1, str(payload['ids']))\n",
    "    data = str(r.json()['max'])[1:-1].split(\",\")\n",
    "    worksheet.write(i, 2, data[0]) #каждую метрику в свой столбец\n",
    "    worksheet.write(i, 3, data[1]) #каждую метрику в свой столбец\n",
    "    worksheet.write(i, 4, data[2]) #каждую метрику в свой столбец\n",
    "    worksheet.write(i, 5, data[3]) #каждую метрику в свой столбец\n",
    "    worksheet.write(i, 6, data[4]) #каждую метрику в свой столбец\n",
    "    worksheet.write(i, 7, data[5]) #каждую метрику в свой столбец\n",
    "    worksheet.write(i, 8, data[6]) #каждую метрику в свой столбец\n",
    "    i += 1\n",
    "    payload['ids'] = value\n",
    "    print('total', key, data)\n",
    "\n",
    "\n",
    "workbook.close()\n",
    "sys.exit(0)"
   ]
  },
  {
   "cell_type": "code",
   "execution_count": null,
   "metadata": {},
   "outputs": [],
   "source": [
    "'''Вот еще сторонний пример, почти такой же как мой\n",
    "Взят отсюда: https://ru.stackoverflow.com/questions/950123/%D0%9F%D0%BE%D0%B4%D0%BA%D0%BB%D1%8E%D1%87%D0%B5%D0%BD%D0%B8%D0%B5-%D0%BA-api-%D0%AF%D0%BD%D0%B4%D0%B5%D0%BA%D1%81-%D0%9C%D0%B5%D1%82%D1%80%D0%B8%D0%BA%D0%B8-%D0%BF%D1%80%D0%BE%D0%B1%D0%BB%D0%B5%D0%BC%D1%8B-%D1%81-%D1%82%D0%BE%D0%BA%D0%B5%D0%BD%D0%BE%D0%BC'''\n",
    "\n",
    "import requests\n",
    "import sys\n",
    "\n",
    "header = {'Authorization': 'AQAAAAAAlc93AAWFfpGrC1vQA0KggaP3zz91QDw'}\n",
    "ids = {\n",
    "    'Count_1': 50766676,\n",
    "}\n",
    "\n",
    "payload = {\n",
    "    'metrics': 'ym:s:pageviews, ym:s:users',\n",
    "    'date1': '2019-02-01',\n",
    "    'date2': '2019-02-27',\n",
    "    'filters': \"ym:s:deviceCategory!='mobile'\",\n",
    "    'ids': 50766676,\n",
    "    'accuracy': 'full',\n",
    "    'pretty': True,\n",
    "}\n",
    "\n",
    "i = 1\n",
    "for key, value in ids.items():\n",
    "    payload['ids'] = value\n",
    "    r = requests.get('https://api-metrika.yandex.ru/stat/v1/data', params=payload, headers=header)\n",
    "    data = str(r.json()['max'])[1:-1].split(\",\")\n",
    "    i += 1\n",
    "    payload['ids'] = value\n",
    "    print('total', key, data)\n",
    "    \n",
    "# Но надо допиливать, сходу не заработал, да и счетчик по ходу мертвый"
   ]
  },
  {
   "cell_type": "code",
   "execution_count": null,
   "metadata": {},
   "outputs": [],
   "source": []
  }
 ],
 "metadata": {
  "kernelspec": {
   "display_name": "Python 3",
   "language": "python",
   "name": "python3"
  },
  "language_info": {
   "codemirror_mode": {
    "name": "ipython",
    "version": 3
   },
   "file_extension": ".py",
   "mimetype": "text/x-python",
   "name": "python",
   "nbconvert_exporter": "python",
   "pygments_lexer": "ipython3",
   "version": "3.8.5"
  }
 },
 "nbformat": 4,
 "nbformat_minor": 2
}
